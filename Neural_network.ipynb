{
 "cells": [
  {
   "cell_type": "code",
   "execution_count": null,
   "id": "ee88a39a-0f9c-40f5-a78b-0445ff1f1e30",
   "metadata": {},
   "outputs": [],
   "source": [
    "ccc"
   ]
  }
 ],
 "metadata": {
  "kernelspec": {
   "display_name": "Python [conda env:FODS]",
   "language": "python",
   "name": "conda-env-FODS-py"
  },
  "language_info": {
   "codemirror_mode": {
    "name": "ipython",
    "version": 3
   },
   "file_extension": ".py",
   "mimetype": "text/x-python",
   "name": "python",
   "nbconvert_exporter": "python",
   "pygments_lexer": "ipython3",
   "version": "3.13.0"
  }
 },
 "nbformat": 4,
 "nbformat_minor": 5
}
