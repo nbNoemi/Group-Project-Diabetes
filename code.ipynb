{
 "cells": [
  {
   "cell_type": "code",
   "execution_count": 1,
   "id": "4993f402",
   "metadata": {
    "ExecuteTime": {
     "end_time": "2025-05-15T06:35:32.684815Z",
     "start_time": "2025-05-15T06:35:32.675487Z"
    }
   },
   "outputs": [],
   "source": [
    "# Import all necessary libraries \n",
    "\n",
    "import numpy as np \n",
    "import pandas as pd \n",
    "import matplotlib.pyplot as plt \n",
    "import seaborn as sns \n",
    "from sklearn.feature_selection import SelectKBest, mutual_info_classif\n",
    "\n",
    "#import warnings\n",
    "#warnings.filterwarnings(\"ignore\")"
   ]
  },
  {
   "cell_type": "markdown",
   "id": "cb98e737",
   "metadata": {},
   "source": [
    "# Data Exploration"
   ]
  },
  {
   "cell_type": "code",
   "execution_count": 2,
   "id": "46ccc6d0",
   "metadata": {
    "ExecuteTime": {
     "end_time": "2025-05-15T06:35:38.316232Z",
     "start_time": "2025-05-15T06:35:34.977620Z"
    }
   },
   "outputs": [
    {
     "data": {
      "text/html": [
       "<div>\n",
       "<style scoped>\n",
       "    .dataframe tbody tr th:only-of-type {\n",
       "        vertical-align: middle;\n",
       "    }\n",
       "\n",
       "    .dataframe tbody tr th {\n",
       "        vertical-align: top;\n",
       "    }\n",
       "\n",
       "    .dataframe thead th {\n",
       "        text-align: right;\n",
       "    }\n",
       "</style>\n",
       "<table border=\"1\" class=\"dataframe\">\n",
       "  <thead>\n",
       "    <tr style=\"text-align: right;\">\n",
       "      <th></th>\n",
       "      <th>Diabetes_012</th>\n",
       "      <th>HighBP</th>\n",
       "      <th>HighChol</th>\n",
       "      <th>CholCheck</th>\n",
       "      <th>BMI</th>\n",
       "      <th>Smoker</th>\n",
       "      <th>Stroke</th>\n",
       "      <th>HeartDiseaseorAttack</th>\n",
       "      <th>PhysActivity</th>\n",
       "      <th>Fruits</th>\n",
       "      <th>...</th>\n",
       "      <th>AnyHealthcare</th>\n",
       "      <th>NoDocbcCost</th>\n",
       "      <th>GenHlth</th>\n",
       "      <th>MentHlth</th>\n",
       "      <th>PhysHlth</th>\n",
       "      <th>DiffWalk</th>\n",
       "      <th>Sex</th>\n",
       "      <th>Age</th>\n",
       "      <th>Education</th>\n",
       "      <th>Income</th>\n",
       "    </tr>\n",
       "  </thead>\n",
       "  <tbody>\n",
       "    <tr>\n",
       "      <th>0</th>\n",
       "      <td>0</td>\n",
       "      <td>1</td>\n",
       "      <td>1</td>\n",
       "      <td>1</td>\n",
       "      <td>40</td>\n",
       "      <td>1</td>\n",
       "      <td>0</td>\n",
       "      <td>0</td>\n",
       "      <td>0</td>\n",
       "      <td>0</td>\n",
       "      <td>...</td>\n",
       "      <td>1</td>\n",
       "      <td>0</td>\n",
       "      <td>5</td>\n",
       "      <td>18</td>\n",
       "      <td>15</td>\n",
       "      <td>1</td>\n",
       "      <td>0</td>\n",
       "      <td>9</td>\n",
       "      <td>4</td>\n",
       "      <td>3</td>\n",
       "    </tr>\n",
       "    <tr>\n",
       "      <th>1</th>\n",
       "      <td>0</td>\n",
       "      <td>0</td>\n",
       "      <td>0</td>\n",
       "      <td>0</td>\n",
       "      <td>25</td>\n",
       "      <td>1</td>\n",
       "      <td>0</td>\n",
       "      <td>0</td>\n",
       "      <td>1</td>\n",
       "      <td>0</td>\n",
       "      <td>...</td>\n",
       "      <td>0</td>\n",
       "      <td>1</td>\n",
       "      <td>3</td>\n",
       "      <td>0</td>\n",
       "      <td>0</td>\n",
       "      <td>0</td>\n",
       "      <td>0</td>\n",
       "      <td>7</td>\n",
       "      <td>6</td>\n",
       "      <td>1</td>\n",
       "    </tr>\n",
       "    <tr>\n",
       "      <th>2</th>\n",
       "      <td>0</td>\n",
       "      <td>1</td>\n",
       "      <td>1</td>\n",
       "      <td>1</td>\n",
       "      <td>28</td>\n",
       "      <td>0</td>\n",
       "      <td>0</td>\n",
       "      <td>0</td>\n",
       "      <td>0</td>\n",
       "      <td>1</td>\n",
       "      <td>...</td>\n",
       "      <td>1</td>\n",
       "      <td>1</td>\n",
       "      <td>5</td>\n",
       "      <td>30</td>\n",
       "      <td>30</td>\n",
       "      <td>1</td>\n",
       "      <td>0</td>\n",
       "      <td>9</td>\n",
       "      <td>4</td>\n",
       "      <td>8</td>\n",
       "    </tr>\n",
       "    <tr>\n",
       "      <th>3</th>\n",
       "      <td>0</td>\n",
       "      <td>1</td>\n",
       "      <td>0</td>\n",
       "      <td>1</td>\n",
       "      <td>27</td>\n",
       "      <td>0</td>\n",
       "      <td>0</td>\n",
       "      <td>0</td>\n",
       "      <td>1</td>\n",
       "      <td>1</td>\n",
       "      <td>...</td>\n",
       "      <td>1</td>\n",
       "      <td>0</td>\n",
       "      <td>2</td>\n",
       "      <td>0</td>\n",
       "      <td>0</td>\n",
       "      <td>0</td>\n",
       "      <td>0</td>\n",
       "      <td>11</td>\n",
       "      <td>3</td>\n",
       "      <td>6</td>\n",
       "    </tr>\n",
       "    <tr>\n",
       "      <th>4</th>\n",
       "      <td>0</td>\n",
       "      <td>1</td>\n",
       "      <td>1</td>\n",
       "      <td>1</td>\n",
       "      <td>24</td>\n",
       "      <td>0</td>\n",
       "      <td>0</td>\n",
       "      <td>0</td>\n",
       "      <td>1</td>\n",
       "      <td>1</td>\n",
       "      <td>...</td>\n",
       "      <td>1</td>\n",
       "      <td>0</td>\n",
       "      <td>2</td>\n",
       "      <td>3</td>\n",
       "      <td>0</td>\n",
       "      <td>0</td>\n",
       "      <td>0</td>\n",
       "      <td>11</td>\n",
       "      <td>5</td>\n",
       "      <td>4</td>\n",
       "    </tr>\n",
       "    <tr>\n",
       "      <th>...</th>\n",
       "      <td>...</td>\n",
       "      <td>...</td>\n",
       "      <td>...</td>\n",
       "      <td>...</td>\n",
       "      <td>...</td>\n",
       "      <td>...</td>\n",
       "      <td>...</td>\n",
       "      <td>...</td>\n",
       "      <td>...</td>\n",
       "      <td>...</td>\n",
       "      <td>...</td>\n",
       "      <td>...</td>\n",
       "      <td>...</td>\n",
       "      <td>...</td>\n",
       "      <td>...</td>\n",
       "      <td>...</td>\n",
       "      <td>...</td>\n",
       "      <td>...</td>\n",
       "      <td>...</td>\n",
       "      <td>...</td>\n",
       "      <td>...</td>\n",
       "    </tr>\n",
       "    <tr>\n",
       "      <th>253675</th>\n",
       "      <td>0</td>\n",
       "      <td>1</td>\n",
       "      <td>1</td>\n",
       "      <td>1</td>\n",
       "      <td>45</td>\n",
       "      <td>0</td>\n",
       "      <td>0</td>\n",
       "      <td>0</td>\n",
       "      <td>0</td>\n",
       "      <td>1</td>\n",
       "      <td>...</td>\n",
       "      <td>1</td>\n",
       "      <td>0</td>\n",
       "      <td>3</td>\n",
       "      <td>0</td>\n",
       "      <td>5</td>\n",
       "      <td>0</td>\n",
       "      <td>1</td>\n",
       "      <td>5</td>\n",
       "      <td>6</td>\n",
       "      <td>7</td>\n",
       "    </tr>\n",
       "    <tr>\n",
       "      <th>253676</th>\n",
       "      <td>2</td>\n",
       "      <td>1</td>\n",
       "      <td>1</td>\n",
       "      <td>1</td>\n",
       "      <td>18</td>\n",
       "      <td>0</td>\n",
       "      <td>0</td>\n",
       "      <td>0</td>\n",
       "      <td>0</td>\n",
       "      <td>0</td>\n",
       "      <td>...</td>\n",
       "      <td>1</td>\n",
       "      <td>0</td>\n",
       "      <td>4</td>\n",
       "      <td>0</td>\n",
       "      <td>0</td>\n",
       "      <td>1</td>\n",
       "      <td>0</td>\n",
       "      <td>11</td>\n",
       "      <td>2</td>\n",
       "      <td>4</td>\n",
       "    </tr>\n",
       "    <tr>\n",
       "      <th>253677</th>\n",
       "      <td>0</td>\n",
       "      <td>0</td>\n",
       "      <td>0</td>\n",
       "      <td>1</td>\n",
       "      <td>28</td>\n",
       "      <td>0</td>\n",
       "      <td>0</td>\n",
       "      <td>0</td>\n",
       "      <td>1</td>\n",
       "      <td>1</td>\n",
       "      <td>...</td>\n",
       "      <td>1</td>\n",
       "      <td>0</td>\n",
       "      <td>1</td>\n",
       "      <td>0</td>\n",
       "      <td>0</td>\n",
       "      <td>0</td>\n",
       "      <td>0</td>\n",
       "      <td>2</td>\n",
       "      <td>5</td>\n",
       "      <td>2</td>\n",
       "    </tr>\n",
       "    <tr>\n",
       "      <th>253678</th>\n",
       "      <td>0</td>\n",
       "      <td>1</td>\n",
       "      <td>0</td>\n",
       "      <td>1</td>\n",
       "      <td>23</td>\n",
       "      <td>0</td>\n",
       "      <td>0</td>\n",
       "      <td>0</td>\n",
       "      <td>0</td>\n",
       "      <td>1</td>\n",
       "      <td>...</td>\n",
       "      <td>1</td>\n",
       "      <td>0</td>\n",
       "      <td>3</td>\n",
       "      <td>0</td>\n",
       "      <td>0</td>\n",
       "      <td>0</td>\n",
       "      <td>1</td>\n",
       "      <td>7</td>\n",
       "      <td>5</td>\n",
       "      <td>1</td>\n",
       "    </tr>\n",
       "    <tr>\n",
       "      <th>253679</th>\n",
       "      <td>2</td>\n",
       "      <td>1</td>\n",
       "      <td>1</td>\n",
       "      <td>1</td>\n",
       "      <td>25</td>\n",
       "      <td>0</td>\n",
       "      <td>0</td>\n",
       "      <td>1</td>\n",
       "      <td>1</td>\n",
       "      <td>1</td>\n",
       "      <td>...</td>\n",
       "      <td>1</td>\n",
       "      <td>0</td>\n",
       "      <td>2</td>\n",
       "      <td>0</td>\n",
       "      <td>0</td>\n",
       "      <td>0</td>\n",
       "      <td>0</td>\n",
       "      <td>9</td>\n",
       "      <td>6</td>\n",
       "      <td>2</td>\n",
       "    </tr>\n",
       "  </tbody>\n",
       "</table>\n",
       "<p>253680 rows × 22 columns</p>\n",
       "</div>"
      ],
      "text/plain": [
       "        Diabetes_012  HighBP  HighChol  CholCheck  BMI  Smoker  Stroke  \\\n",
       "0                  0       1         1          1   40       1       0   \n",
       "1                  0       0         0          0   25       1       0   \n",
       "2                  0       1         1          1   28       0       0   \n",
       "3                  0       1         0          1   27       0       0   \n",
       "4                  0       1         1          1   24       0       0   \n",
       "...              ...     ...       ...        ...  ...     ...     ...   \n",
       "253675             0       1         1          1   45       0       0   \n",
       "253676             2       1         1          1   18       0       0   \n",
       "253677             0       0         0          1   28       0       0   \n",
       "253678             0       1         0          1   23       0       0   \n",
       "253679             2       1         1          1   25       0       0   \n",
       "\n",
       "        HeartDiseaseorAttack  PhysActivity  Fruits  ...  AnyHealthcare  \\\n",
       "0                          0             0       0  ...              1   \n",
       "1                          0             1       0  ...              0   \n",
       "2                          0             0       1  ...              1   \n",
       "3                          0             1       1  ...              1   \n",
       "4                          0             1       1  ...              1   \n",
       "...                      ...           ...     ...  ...            ...   \n",
       "253675                     0             0       1  ...              1   \n",
       "253676                     0             0       0  ...              1   \n",
       "253677                     0             1       1  ...              1   \n",
       "253678                     0             0       1  ...              1   \n",
       "253679                     1             1       1  ...              1   \n",
       "\n",
       "        NoDocbcCost  GenHlth  MentHlth  PhysHlth  DiffWalk  Sex  Age  \\\n",
       "0                 0        5        18        15         1    0    9   \n",
       "1                 1        3         0         0         0    0    7   \n",
       "2                 1        5        30        30         1    0    9   \n",
       "3                 0        2         0         0         0    0   11   \n",
       "4                 0        2         3         0         0    0   11   \n",
       "...             ...      ...       ...       ...       ...  ...  ...   \n",
       "253675            0        3         0         5         0    1    5   \n",
       "253676            0        4         0         0         1    0   11   \n",
       "253677            0        1         0         0         0    0    2   \n",
       "253678            0        3         0         0         0    1    7   \n",
       "253679            0        2         0         0         0    0    9   \n",
       "\n",
       "        Education  Income  \n",
       "0               4       3  \n",
       "1               6       1  \n",
       "2               4       8  \n",
       "3               3       6  \n",
       "4               5       4  \n",
       "...           ...     ...  \n",
       "253675          6       7  \n",
       "253676          2       4  \n",
       "253677          5       2  \n",
       "253678          5       1  \n",
       "253679          6       2  \n",
       "\n",
       "[253680 rows x 22 columns]"
      ]
     },
     "execution_count": 2,
     "metadata": {},
     "output_type": "execute_result"
    }
   ],
   "source": [
    "# Load data\n",
    "data = pd.read_csv(\"./dataset.csv\")\n",
    "data = data.astype(int)\n",
    "data"
   ]
  },
  {
   "cell_type": "markdown",
   "id": "61bf2207",
   "metadata": {},
   "source": [
    "### Data types exploration"
   ]
  },
  {
   "cell_type": "code",
   "execution_count": null,
   "id": "088edb50",
   "metadata": {
    "ExecuteTime": {
     "end_time": "2025-05-15T06:35:42.314554Z",
     "start_time": "2025-05-15T06:35:42.291887Z"
    }
   },
   "outputs": [],
   "source": [
    "data_types = data.dtypes\n",
    "data_types"
   ]
  },
  {
   "cell_type": "markdown",
   "id": "8a9c7b63",
   "metadata": {},
   "source": [
    "# Data preprocessing and visualisation"
   ]
  },
  {
   "cell_type": "markdown",
   "id": "db542f37",
   "metadata": {},
   "source": [
    "### Dublicates. Missing Values and Outliers"
   ]
  },
  {
   "cell_type": "code",
   "execution_count": null,
   "id": "26419e7c",
   "metadata": {
    "ExecuteTime": {
     "end_time": "2025-05-15T06:35:46.827694Z",
     "start_time": "2025-05-15T06:35:45.930712Z"
    }
   },
   "outputs": [],
   "source": [
    "#check data's integrity\n",
    "data.duplicated()\n",
    "int(data.duplicated().sum())\n"
   ]
  },
  {
   "cell_type": "markdown",
   "id": "a14babf2",
   "metadata": {},
   "source": [
    "This are a lot of duplicates but I assume that this happens verry quick, even if it is really a different patient, with such a huge amount of categorical 2 group variables. Because of this it would be bad to drop dublicates and keep respectively the first of them."
   ]
  },
  {
   "cell_type": "code",
   "execution_count": null,
   "id": "23faa477",
   "metadata": {
    "ExecuteTime": {
     "end_time": "2025-05-15T06:35:50.268340Z",
     "start_time": "2025-05-15T06:35:50.009191Z"
    }
   },
   "outputs": [],
   "source": [
    "#check for missing values\n",
    "data.isna().sum(axis=1)\n",
    "data.isna().any(axis=1).any()"
   ]
  },
  {
   "cell_type": "markdown",
   "id": "0d584f0c",
   "metadata": {},
   "source": [
    "<- no missing values"
   ]
  },
  {
   "cell_type": "markdown",
   "id": "42e652b8",
   "metadata": {},
   "source": [
    "Features and Label"
   ]
  },
  {
   "cell_type": "code",
   "execution_count": 3,
   "id": "17de4ce7",
   "metadata": {
    "ExecuteTime": {
     "end_time": "2025-05-15T06:35:52.614080Z",
     "start_time": "2025-05-15T06:35:52.574197Z"
    }
   },
   "outputs": [
    {
     "data": {
      "text/plain": [
       "(253680, 21)"
      ]
     },
     "execution_count": 3,
     "metadata": {},
     "output_type": "execute_result"
    }
   ],
   "source": [
    "X=data.drop(['Diabetes_012'], axis=1)\n",
    "y=data['Diabetes_012']\n",
    "X.shape"
   ]
  },
  {
   "cell_type": "markdown",
   "id": "6686333e",
   "metadata": {},
   "source": [
    "Compute correlation matrix"
   ]
  },
  {
   "cell_type": "code",
   "execution_count": null,
   "id": "174ee8e8",
   "metadata": {
    "ExecuteTime": {
     "end_time": "2025-05-15T06:35:56.742306Z",
     "start_time": "2025-05-15T06:35:55.345835Z"
    }
   },
   "outputs": [],
   "source": [
    "corr_matrix = X.corr().abs() #abs trat negative values same as positive\n",
    "corr_matrix"
   ]
  },
  {
   "cell_type": "markdown",
   "id": "e0974c21",
   "metadata": {},
   "source": [
    "Plot correlation matrix"
   ]
  },
  {
   "cell_type": "code",
   "execution_count": null,
   "id": "3199d740",
   "metadata": {
    "ExecuteTime": {
     "end_time": "2025-05-15T06:34:10.155322600Z",
     "start_time": "2025-05-14T14:29:20.170771Z"
    }
   },
   "outputs": [],
   "source": [
    "plt.figure(figsize=(12, 10))\n",
    "sns.heatmap(corr_matrix, cmap='coolwarm', annot=False)\n",
    "plt.title('Feature Correlation Heatmap')\n",
    "plt.show()"
   ]
  },
  {
   "cell_type": "markdown",
   "id": "794ae382",
   "metadata": {},
   "source": [
    "Remove higly correlated variables"
   ]
  },
  {
   "cell_type": "code",
   "execution_count": null,
   "id": "98dbe583",
   "metadata": {
    "ExecuteTime": {
     "end_time": "2025-05-15T06:34:10.155322600Z",
     "start_time": "2025-05-14T14:29:22.340127Z"
    }
   },
   "outputs": [],
   "source": [
    "# Select upper triangle of correlation matrix\n",
    "upper = corr_matrix.where(np.triu(np.ones(corr_matrix.shape), k=1).astype(bool))\n",
    "\n",
    "# Find features with correlation > 0.9 (threshold is adjustable)\n",
    "to_drop = [column for column in upper.columns if any(upper[column] > 0.9)]\n",
    "\n",
    "# Drop redundant features\n",
    "X_reduced = X.drop(columns=to_drop)\n",
    "print(f\"Removed {len(to_drop)} highly correlated features: {to_drop}\")"
   ]
  },
  {
   "cell_type": "markdown",
   "id": "6eaab549",
   "metadata": {},
   "source": [
    "Use mutual information filter methods to quantify the amount of information that one variable provides about another"
   ]
  },
  {
   "cell_type": "code",
   "execution_count": 4,
   "id": "378809ca",
   "metadata": {
    "ExecuteTime": {
     "end_time": "2025-05-15T06:34:10.155322600Z",
     "start_time": "2025-05-14T14:29:22.928204Z"
    }
   },
   "outputs": [],
   "source": [
    "selector = SelectKBest(score_func=mutual_info_classif, k=10)\n",
    "X_new = selector.fit_transform(X, y)"
   ]
  },
  {
   "cell_type": "markdown",
   "id": "891f8c37",
   "metadata": {},
   "source": [
    "Let's try backword stepwise elimination (with multinominal logistische regression)"
   ]
  },
  {
   "cell_type": "code",
   "execution_count": 18,
   "id": "4b19cab0",
   "metadata": {
    "ExecuteTime": {
     "end_time": "2025-05-15T06:34:10.157842400Z",
     "start_time": "2025-05-14T13:18:48.184347Z"
    }
   },
   "outputs": [
    {
     "name": "stdout",
     "output_type": "stream",
     "text": [
      "Dropping 'PhysActivity' with p = 0.7308\n",
      "Dropping 'DiffWalk' with p = 0.5998\n",
      "Dropping 'Smoker' with p = 0.5562\n",
      "Dropping 'HeartDiseaseorAttack' with p = 0.5250\n",
      "Dropping 'Fruits' with p = 0.4939\n",
      "Dropping 'AnyHealthcare' with p = 0.2242\n",
      "Dropping 'NoDocbcCost' with p = 0.1240\n",
      "Dropping 'Veggies' with p = 0.1182\n",
      "Dropping 'Stroke' with p = 0.0915\n",
      "Selected features: ['const', 'HighBP', 'HighChol', 'CholCheck', 'BMI', 'HvyAlcoholConsump', 'GenHlth', 'MentHlth', 'PhysHlth', 'Sex', 'Age', 'Education', 'Income']\n"
     ]
    }
   ],
   "source": [
    "import statsmodels.api as sm\n",
    "\n",
    "#Add constant for intercept\n",
    "def multinomial(X): \n",
    "    X = sm.add_constant(X)\n",
    "    cols = list(X.columns)\n",
    "    pmax = 1\n",
    "\n",
    "    while len(cols) > 0:\n",
    "        # Inside your while loop:\n",
    "        model = sm.MNLogit(y, X[cols]).fit(disp=0)\n",
    "\n",
    "        # Take max p-value per feature across classes\n",
    "        p_values = model.pvalues\n",
    "        p_values_max = p_values.max(axis=1)\n",
    "        pmax = p_values_max.max()\n",
    "        feature_with_p_max = p_values_max.idxmax()\n",
    "\n",
    "        # Backward elimination step\n",
    "        if pmax > 0.05:\n",
    "            print(f\"Dropping '{feature_with_p_max}' with p = {pmax:.4f}\")\n",
    "            cols.remove(feature_with_p_max)\n",
    "        else:\n",
    "            break\n",
    "\n",
    "    print(f\"Selected features: {cols}\")\n",
    "    return cols\n",
    "\n",
    "X_BSE_list = multinomial(X)\n",
    "X_BSE_list.remove('const')\n",
    "X_postBSE = X[X_BSE_list]\n"
   ]
  },
  {
   "cell_type": "markdown",
   "id": "67eb1ac8",
   "metadata": {},
   "source": [
    "LABEL, CATEGORICAL AND NUMERICAL FEATURES"
   ]
  },
  {
   "cell_type": "markdown",
   "id": "f413d10e",
   "metadata": {},
   "source": [
    "**Numerical (Interval data** <- has no meaningful zero **) :** \n",
    "BMI\n",
    "\n",
    "**Categorical (Ordinal data) :**\n",
    "Diabetes_012, Age, GenHlth, MentHlth, PhyaHlth, Education, Income) \n",
    "\n",
    "**Categorical (Nominal data) :** Rest \n",
    "-> (HighBP, HighChol, CholCheck, Smoker, Stroke, HeartDiseaseorAttack, PhysActivity, Fruits, Veggies, HvyAlcoholConsump, AnyHealthcare, NoDocbcCost, DiffWalk, Sex) "
   ]
  },
  {
   "cell_type": "code",
   "execution_count": null,
   "id": "f43f3c2a",
   "metadata": {
    "ExecuteTime": {
     "end_time": "2025-05-15T06:34:10.157842400Z",
     "start_time": "2025-05-14T13:18:44.303742Z"
    }
   },
   "outputs": [],
   "source": [
    "label = ['Diabetes_012']\n",
    "num_cols = ['BMI', 'Age']\n",
    "cate_cols = data.columns.drop(['BMI', 'Age', 'Diabetes_012'])"
   ]
  },
  {
   "cell_type": "markdown",
   "id": "9f50a543",
   "metadata": {},
   "source": [
    "### Data Visualisation"
   ]
  },
  {
   "cell_type": "markdown",
   "id": "450f4281",
   "metadata": {},
   "source": [
    "Distribution label Diabetes:"
   ]
  },
  {
   "cell_type": "code",
   "execution_count": null,
   "id": "0dd04b41",
   "metadata": {
    "ExecuteTime": {
     "end_time": "2025-05-15T06:34:10.157842400Z",
     "start_time": "2025-05-13T19:03:03.446318Z"
    }
   },
   "outputs": [],
   "source": [
    "plt.figure(figsize=(12, 10))\n",
    "sns.countplot(data=data, x='Diabetes_012')\n",
    "plt.title('Distribution of Diabetes_012')\n",
    "plt.show()"
   ]
  },
  {
   "cell_type": "markdown",
   "id": "d5d4066c",
   "metadata": {},
   "source": [
    "For the numerical features. See if there is a difference between Diabetes_012"
   ]
  },
  {
   "cell_type": "code",
   "execution_count": null,
   "id": "79b79aac",
   "metadata": {
    "ExecuteTime": {
     "end_time": "2025-05-15T06:34:10.159587Z",
     "start_time": "2025-05-13T19:03:05.388716Z"
    }
   },
   "outputs": [],
   "source": [
    "for i in range(len(num_cols)):\n",
    "    plt.figure(figsize=(6, 4))\n",
    "    sns.boxplot(data=data, x='Diabetes_012', y=num_cols[i])\n",
    "    plt.show()"
   ]
  },
  {
   "cell_type": "markdown",
   "id": "47a92b9d",
   "metadata": {},
   "source": [
    "Many outliers in BMI?"
   ]
  },
  {
   "cell_type": "code",
   "execution_count": null,
   "id": "073c60df",
   "metadata": {
    "ExecuteTime": {
     "end_time": "2025-05-15T06:34:10.159587Z",
     "start_time": "2025-05-13T19:03:08.458642Z"
    }
   },
   "outputs": [],
   "source": [
    "#Suggestion from Noemi:\n"
   ]
  },
  {
   "cell_type": "markdown",
   "id": "78cc232b",
   "metadata": {},
   "source": [
    "➡ **Box Plot:** Use a box plot to show the data distribution and identify **outliers**. This type of chart works well when you have a lot of data and want to see the range and median of the data. A box-and-whisker plot displays the summary of a set of data:  the minimum, first quartile, median, third quartile, and maximum of the data subset. \n",
    "\n",
    "➡**Violin plots**: Use a box plot to visualize distribution and probability.  This hybrid chart works  version to shows the full distribution of the data and the peaks in the numeric dataset.  \n",
    "\n",
    "➡ **Bar Chart:** Use a bar chart to compare categories or groups. This chart type works well when the data is discrete and not continuous."
   ]
  },
  {
   "cell_type": "markdown",
   "id": "27cb425b",
   "metadata": {},
   "source": [
    "Look at the distribution of every categorical variable"
   ]
  },
  {
   "cell_type": "code",
   "execution_count": null,
   "id": "b5901453",
   "metadata": {
    "ExecuteTime": {
     "end_time": "2025-05-15T06:34:10.159587Z",
     "start_time": "2025-05-13T19:03:08.684785Z"
    }
   },
   "outputs": [],
   "source": [
    "for col in cate_cols:\n",
    "    plt.figure(figsize=(10, 5))\n",
    "    sns.countplot(data=data, x=col, hue='Diabetes_012')\n",
    "    plt.title(f'{col} vs Diabetes')\n",
    "    plt.show()\n"
   ]
  },
  {
   "cell_type": "code",
   "execution_count": null,
   "id": "fa3ffd20",
   "metadata": {
    "ExecuteTime": {
     "end_time": "2025-05-15T06:34:10.161599700Z",
     "start_time": "2025-05-13T19:03:43.474605Z"
    }
   },
   "outputs": [],
   "source": [
    "#for age as a categorical variable\n",
    "plt.figure(figsize=(10, 5))\n",
    "sns.countplot(data=data, x='Age', hue='Diabetes_012')\n",
    "plt.title('Age Groups vs Diabetes')\n",
    "plt.show()\n",
    "\n",
    " "
   ]
  },
  {
   "cell_type": "markdown",
   "id": "d73f7574",
   "metadata": {},
   "source": [
    "# Machine Learning Algorithms"
   ]
  },
  {
   "cell_type": "markdown",
   "id": "0709c61c",
   "metadata": {},
   "source": [
    "## Logistic Regression"
   ]
  },
  {
   "cell_type": "code",
   "execution_count": 1,
   "id": "60ef0459",
   "metadata": {},
   "outputs": [],
   "source": [
    "import numpy as np \n",
    "import pandas as pd \n",
    "import matplotlib.pyplot as plt \n",
    "import seaborn as sns \n",
    "\n",
    "from sklearn.model_selection import train_test_split\n",
    "from sklearn.preprocessing import StandardScaler\n",
    "from sklearn.feature_selection import SelectKBest, f_classif, mutual_info_classif\n",
    "from sklearn.linear_model import LogisticRegression\n",
    "from sklearn.metrics import accuracy_score, precision_score, make_scorer, recall_score, f1_score, classification_report, confusion_matrix, ConfusionMatrixDisplay\n",
    "from sklearn.model_selection import GridSearchCV, StratifiedKFold\n",
    "from sklearn.compose import ColumnTransformer\n",
    "from sklearn.pipeline import Pipeline"
   ]
  },
  {
   "cell_type": "code",
   "execution_count": 2,
   "id": "e7651d53",
   "metadata": {},
   "outputs": [],
   "source": [
    "data = pd.read_csv(\"./dataset.csv\")\n",
    "X=data.drop(['Diabetes_012'], axis=1)\n",
    "y=data['Diabetes_012']"
   ]
  },
  {
   "cell_type": "code",
   "execution_count": 3,
   "id": "919cc678",
   "metadata": {},
   "outputs": [],
   "source": [
    "# === 2. Train/test split ===\n",
    "X_train, X_test, y_train, y_test = train_test_split(\n",
    "    X, y, test_size=0.2, random_state=42, stratify=y)\n",
    "\n",
    "# === Set up scaling only for ordinal/continuous columns ===\n",
    "ordinal_col = ['GenHlth', 'PhysHlth', 'MentHlth','Education', 'Income', 'BMI', 'Age']\n",
    "binary_col = [col for col in X.columns if col not in ordinal_col]\n",
    "\n",
    "preprocessor = ColumnTransformer([\n",
    "    ('scale_ordial', StandardScaler(), ordinal_col), \n",
    "    ('pass_binaries', 'passthrough', binary_col) # binary left untouched\n",
    "    ])  "
   ]
  },
  {
   "cell_type": "markdown",
   "id": "f4c48b99",
   "metadata": {},
   "source": [
    "Feature Selection I (SelectKBest, f_classif, with k tuning)"
   ]
  },
  {
   "cell_type": "code",
   "execution_count": null,
   "id": "8bebb58e",
   "metadata": {},
   "outputs": [],
   "source": [
    "pipeline_kbest = Pipeline([\n",
    "    ('preprocessing', preprocessor),\n",
    "    ('select', SelectKBest(score_func=f_classif)),\n",
    "    ('clf', LogisticRegression(class_weight='balanced', max_iter=1000))\n",
    "])\n",
    "\n",
    "param_grid = {\n",
    "    'select__k': list(range(1, 22))  # Try all k values from 1 to 21\n",
    "}\n",
    "\n",
    "cv = StratifiedKFold(n_splits=5, shuffle=True, random_state=42)\n",
    "\n",
    "grid = GridSearchCV(\n",
    "    pipeline_kbest,\n",
    "    param_grid,\n",
    "    scoring='f1_macro',  # Or 'recall_macro', etc.\n",
    "    cv=cv,\n",
    "    n_jobs=-1,\n",
    "    verbose=1,\n",
    "    return_train_score=True\n",
    ")\n",
    "\n",
    "grid.fit(X_train, y_train)\n",
    "\n",
    "results_df = pd.DataFrame(grid.cv_results_)[['param_select__k', 'mean_test_score', 'mean_train_score']]\n",
    "results_df.columns = ['k', 'Test Score (F1)', 'Train Score (F1)']\n",
    "results_df.sort_values('Test Score (F1)', ascending=False, inplace=True)\n",
    "results_df.reset_index(drop=True, inplace=True)\n",
    "results_df"
   ]
  },
  {
   "cell_type": "code",
   "execution_count": null,
   "id": "9d742dbf",
   "metadata": {},
   "outputs": [],
   "source": [
    "pipeline1 = Pipeline([\n",
    "    ('preprocessing', preprocessor),\n",
    "    ('select', SelectKBest(score_func=f_classif, k=17)),\n",
    "    ('clf', LogisticRegression(class_weight='balanced', max_iter=1000))\n",
    "])\n",
    "\n",
    "pipeline1.fit(X_train, y_train)\n",
    "y_pred = pipeline1.predict(X_test)\n",
    "f1_kbest = f1_score(y_test, y_pred, average='macro')\n",
    "\n",
    "print(classification_report(y_test, y_pred))\n",
    "print(f\"F1 Score:  {f1_kbest:.4f}\")"
   ]
  },
  {
   "cell_type": "markdown",
   "id": "8e348f3e",
   "metadata": {},
   "source": [
    "Feature Selection II (backwards stepwise elimination)"
   ]
  },
  {
   "cell_type": "code",
   "execution_count": null,
   "id": "cdafbc78",
   "metadata": {},
   "outputs": [],
   "source": [
    "selected_features = ['HighBP', 'HighChol', 'CholCheck', 'BMI', 'HvyAlcoholConsump', 'GenHlth', 'MentHlth', 'PhysHlth', 'Sex', 'Age', 'Education', 'Income'] #X_BSE_list\n",
    "ordinal_cols_reduced = ['BMI', 'GenHlth', 'MentHlth', 'PhysHlth', 'Age', 'Education', 'Income']\n",
    "binary_cols_reduced = [col for col in selected_features if col not in ordinal_cols_reduced]\n",
    "X_train_reduced = X_train[selected_features]\n",
    "X_test_reduced = X_test[selected_features]\n",
    "\n",
    "preprocessor2 = ColumnTransformer(transformers=[\n",
    "    ('scale_ordinals', StandardScaler(), ordinal_cols_reduced),\n",
    "    ('pass_binaries', 'passthrough', binary_cols_reduced)\n",
    "])\n",
    "pipeline2 = Pipeline([\n",
    "    ('preprocessing', preprocessor2), \n",
    "    ('clf', LogisticRegression(class_weight='balanced', max_iter=1000))\n",
    "])\n",
    "\n",
    "pipeline2.fit(X_train_reduced, y_train)\n",
    "\n",
    "y_pred = pipeline2.predict(X_test_reduced)\n",
    "f1_BSE = f1_score(y_test, y_pred, average='macro')\n",
    "\n",
    "print(classification_report(y_test, y_pred))\n",
    "print(f\"F1 Score:  {f1_BSE:.4f}\")"
   ]
  },
  {
   "cell_type": "markdown",
   "id": "a63b3e94",
   "metadata": {},
   "source": [
    "Hyperparameter tuning"
   ]
  },
  {
   "cell_type": "code",
   "execution_count": null,
   "id": "fca84a2a",
   "metadata": {},
   "outputs": [],
   "source": [
    "# === try saga with elasticnet ===\n",
    "param_grid = {\n",
    "    'clf__penalty': ['elasticnet'],\n",
    "    'clf__solver': ['saga'],  # Must match penalty type\n",
    "    'clf__max_iter': [5000],\n",
    "    'clf__l1_ratio': [0.1,0.5,0.9]\n",
    "}\n",
    "\n",
    "cv = StratifiedKFold(n_splits=5, shuffle=True, random_state=42)\n",
    "\n",
    "grid = GridSearchCV(\n",
    "    pipeline1,\n",
    "    param_grid,\n",
    "    scoring='f1_macro', \n",
    "    cv=cv,\n",
    "    n_jobs=-1,\n",
    "    verbose=1,\n",
    "    return_train_score=True\n",
    ")\n",
    "\n",
    "grid.fit(X_train, y_train)\n",
    "\n",
    "print(\"Best parameters:\", grid.best_params_)\n",
    "print(\"Best F1 score:\", grid.best_score_)"
   ]
  },
  {
   "cell_type": "code",
   "execution_count": null,
   "id": "f62d4fd4",
   "metadata": {},
   "outputs": [],
   "source": [
    "# === try saga with other penalties ===\n",
    "param_grid = {\n",
    "    'clf__penalty': ['l1','l2',None],\n",
    "    'clf__solver': ['saga'],  # Must match penalty type\n",
    "    'clf__max_iter': [5000],\n",
    "}\n",
    "\n",
    "cv = StratifiedKFold(n_splits=5, shuffle=True, random_state=42)\n",
    "\n",
    "grid = GridSearchCV(\n",
    "    pipeline1,\n",
    "    param_grid,\n",
    "    scoring='f1_macro', \n",
    "    cv=cv,\n",
    "    n_jobs=-1,\n",
    "    verbose=1,\n",
    "    return_train_score=True\n",
    ")\n",
    "\n",
    "grid.fit(X_train, y_train)\n",
    "\n",
    "print(\"Best parameters:\", grid.best_params_)\n",
    "print(\"Best F1 score:\", grid.best_score_)"
   ]
  },
  {
   "cell_type": "code",
   "execution_count": null,
   "id": "c31c42ab",
   "metadata": {},
   "outputs": [],
   "source": [
    "# === try lbfgs with different C ===\n",
    "param_grid = {\n",
    "    'clf__C': [0.0001, 0.001, 0.01, 0.1, 1, 10, 100],\n",
    "    'clf__penalty': ['l2', None],\n",
    "    'clf__solver': ['lbfgs'],\n",
    "}\n",
    "\n",
    "cv = StratifiedKFold(n_splits=5, shuffle=True, random_state=42)\n",
    "\n",
    "grid = GridSearchCV(\n",
    "    pipeline1,\n",
    "    param_grid,\n",
    "    scoring='f1_macro', \n",
    "    cv=cv,\n",
    "    n_jobs=-1,\n",
    "    verbose=1,\n",
    "    return_train_score=True\n",
    ")\n",
    "\n",
    "grid.fit(X_train, y_train)\n",
    "\n",
    "print(\"Best parameters:\", grid.best_params_)\n",
    "print(\"Best F1 score:\", grid.best_score_)\n"
   ]
  },
  {
   "cell_type": "code",
   "execution_count": 4,
   "id": "3a2fc8ca",
   "metadata": {},
   "outputs": [
    {
     "name": "stdout",
     "output_type": "stream",
     "text": [
      "              precision    recall  f1-score   support\n",
      "\n",
      "           0       0.95      0.68      0.79     42741\n",
      "           1       0.03      0.28      0.06       926\n",
      "           2       0.35      0.59      0.44      7069\n",
      "\n",
      "    accuracy                           0.66     50736\n",
      "   macro avg       0.44      0.52      0.43     50736\n",
      "weighted avg       0.85      0.66      0.73     50736\n",
      "\n",
      "\n",
      " === Logistic Regression Evaluation: ===\n",
      "Accuracy:  0.6609\n",
      "Precision: 0.4441\n",
      "Recall:    0.5166\n",
      "F1 Score:  0.4305\n",
      "\n",
      " === Confusion Matrix: ===\n"
     ]
    },
    {
     "data": {
      "image/png": "[encoded data removed]",
      "text/plain": [
       "<Figure size 600x600 with 2 Axes>"
      ]
     },
     "metadata": {},
     "output_type": "display_data"
    }
   ],
   "source": [
    "pipeline_final = Pipeline([\n",
    "    ('preprocessing', preprocessor),\n",
    "    ('select', SelectKBest(score_func=f_classif, k=17)),\n",
    "    ('clf', LogisticRegression(C=0.0001, solver='lbfgs', class_weight='balanced', max_iter=1000))\n",
    "])\n",
    "\n",
    "pipeline_final.fit(X_train, y_train)\n",
    "\n",
    "y_pred = pipeline_final.predict(X_test)\n",
    "f1_BSE = f1_score(y_test, y_pred, average='macro')\n",
    "\n",
    "print(classification_report(y_test, y_pred))\n",
    "accuracy = accuracy_score(y_test, y_pred)\n",
    "precision = precision_score(y_test, y_pred, average='macro')\n",
    "recall = recall_score(y_test, y_pred, average='macro')\n",
    "f1 = f1_score(y_test, y_pred, average='macro')\n",
    "\n",
    "print(\"\\n === Logistic Regression Evaluation: ===\")\n",
    "print(f\"Accuracy:  {accuracy:.4f}\")\n",
    "print(f\"Precision: {precision:.4f}\")\n",
    "print(f\"Recall:    {recall:.4f}\")\n",
    "print(f\"F1 Score:  {f1:.4f}\")\n",
    "\n",
    "# === 7. Confusion Matrix ===\n",
    "cm = confusion_matrix(y_test, y_pred)\n",
    "disp = ConfusionMatrixDisplay(confusion_matrix=cm, display_labels=pipeline_final.classes_)\n",
    "\n",
    "print(\"\\n === Confusion Matrix: ===\")\n",
    "plt.figure(figsize=(6, 6))\n",
    "sns.heatmap(cm, annot=True, fmt='d', cmap='Blues')\n",
    "plt.title('Confusion Matrix for LR')\n",
    "plt.xlabel('Predicted')\n",
    "plt.ylabel('True')\n",
    "plt.show()"
   ]
  },
  {
   "cell_type": "markdown",
   "id": "81443b76",
   "metadata": {},
   "source": [
    "## Decision Tree"
   ]
  },
  {
   "cell_type": "markdown",
   "id": "06518b85",
   "metadata": {},
   "source": [
    "### Assumptions we make while using Decision tree\n",
    "\n",
    "- At the beginning, we consider the whole training set as the root.\n",
    "- Attributes are assumed to be categorical for information gain and for gini index, attributes are assumed to be continuous.\n",
    "- On the basis of attribute values records are distributed recursively.\n",
    "- We use statistical methods for ordering attributes as root or internal node.\n",
    "\n",
    "https://www.geeksforgeeks.org/decision-tree-implementation-python/\n",
    "\n",
    "#### Pseudocode \n",
    "\n",
    "1. Find the best attribute and place it on the root node of the tree.\n",
    "2. Now, split the training set of the dataset into subsets. While making the subset make sure that each subset of training dataset should have the same value for an attribute.\n",
    "3. Find leaf nodes in all branches by repeating 1 and 2 on each subset.\n",
    "\n",
    "#### Decision Trees doesn't need to me standartised.\n",
    "\n",
    "Decision Trees (and related models like Random Forests and Gradient Boosted Trees) are not affected by feature scaling. Here's why:\n",
    "\n",
    "Trees split data based on feature thresholds, not distances or magnitudes.\n",
    "For example, a decision tree might split on \"Feature X > 5\" — it doesn't care whether Feature X is in the range [0,1] or [0, 1000].\n",
    "\n",
    "##### When you do need standardization:\n",
    "Standardization (using StandardScaler() or MinMaxScaler()) is important for algorithms that are distance-based or gradient-based, such as:\n",
    "\n",
    "- K-Nearest Neighbors (KNN)\n",
    "- Support Vector Machines (SVM)\n",
    "- Logistic Regression\n",
    "- Linear Regression\n",
    "- Neural Networks\n",
    "\n",
    "These models are sensitive to feature scale and can perform poorly if features are not standardized."
   ]
  },
  {
   "cell_type": "code",
   "execution_count": 6,
   "id": "c79abdfe",
   "metadata": {},
   "outputs": [],
   "source": [
    "import numpy as np\n",
    "import pandas as pd\n",
    "import sklearn\n",
    "from sklearn.metrics import confusion_matrix, accuracy_score, classification_report, f1_score, cohen_kappa_score\n",
    "from sklearn.model_selection import train_test_split\n",
    "from sklearn.tree import DecisionTreeClassifier\n",
    "import matplotlib.pyplot as plt\n",
    "\n",
    "# X hole data Frame\n",
    "# y hale data Frame\n",
    "\"\"\"\n",
    "# === 2. Train/test split === - Janet\n",
    "X_train, X_test, y_train, y_test = train_test_split(\n",
    "    X, y, test_size=0.2, random_state=42, stratify=y)\n",
    "\n",
    "# Split training/test - Oliver\n",
    "X_train, X_test, y_train, y_test = train_test_split(X_selected_rdf, y, test_size=0.2, random_state=42, stratify=y)\n",
    "\n",
    "# ==== Train/test split ==== - Noah Light\n",
    "X_train, X_test, y_train, y_test = train_test_split(\n",
    "    X_model, y, test_size=0.2, stratify=y, random_state=42\n",
    ")\n",
    "\n",
    "# ==== 2. TRAIN/TEST SPLIT ==== - Noah neuronal\n",
    "X_train, X_test, y_train, y_test = train_test_split(X, y, test_size=0.2, stratify=y, random_state=42)\n",
    "\"\"\"\n",
    "# Function to split the dataset into features and target variables\n",
    "\n",
    "def splitdataset(X, y):\n",
    "\n",
    "    # Splitting the dataset into train and test\n",
    "    X_train, X_test, y_train, y_test = train_test_split(\n",
    "        X, y, test_size=0.2, random_state=42)\n",
    "    \n",
    "    \"\"\" How they did in on geeksforgeeks.org:\n",
    "    X_train, X_test, y_train, y_test = train_test_split( \n",
    "          X, Y, test_size = 0.3, random_state = 100)\n",
    "    \"\"\"\n",
    "\n",
    "    return X_train, X_test, y_train, y_test \n",
    "\n",
    "def Evaluation(y_test, y_pred, y_pred_proba=None):\n",
    "    \n",
    "    print(\"Accuracy:\", sklearn.metrics.accuracy_score(y_test, y_pred))\n",
    "    print(\"Precision:\", sklearn.metrics.precision_score(y_test, y_pred, average='macro'))\n",
    "    print(\"Recall:\", sklearn.metrics.recall_score(y_test, y_pred, average='macro'))\n",
    "    print(\"F1 Score:\", sklearn.metrics.f1_score(y_test, y_pred, average='macro'))\n",
    "    if(y_pred_proba):\n",
    "        print(\"Log Loss:\", sklearn.metrics.log_loss(y_test, y_pred_proba, labels=[0, 1, 2]))\n",
    "    print(\"Cohen Kappa Score:\", sklearn.metrics.cohen_kappa_score(y_test, y_pred))\n",
    "\n",
    "    # Classification report per classe\n",
    "    print(\"\\nClassification Report:\\n\")\n",
    "    print(classification_report(y_test, y_pred, digits=4))"
   ]
  },
  {
   "cell_type": "markdown",
   "id": "12cf7131",
   "metadata": {},
   "source": [
    "Trying diffrent settings in the DecisionTreeClassifier() function"
   ]
  },
  {
   "cell_type": "code",
   "execution_count": 14,
   "id": "b86bcc31",
   "metadata": {},
   "outputs": [],
   "source": [
    "def Variating_DecisionTreeClassifier(X_train, y_train, X_test, y_test):\n",
    "    class_weight = [\"balanced\",None]\n",
    "    criterions = [\"gini\", \"entropy\", \"log_loss\"]\n",
    "    maxDepth = [2,4,8,16,32,None]\n",
    "\n",
    "    maxf1 = 0\n",
    "    parameters = \"\"\n",
    "\n",
    "    for criterion in criterions:\n",
    "        for d in maxDepth:\n",
    "            for cl in class_weight:\n",
    "            \n",
    "                #print(\"========= Class weigth:\" + str(cl) + \" Method: \" + criterion + \", maxDepth: \" + str(d) + \" ========\")\n",
    "                dtree = DecisionTreeClassifier(criterion=criterion, max_depth=d, class_weight=cl, random_state=42)\n",
    "                dtree.fit(X_train, y_train)\n",
    "                y_predicted = dtree.predict(X_test)\n",
    "                if(sklearn.metrics.f1_score(y_test, y_predicted, average='macro') > maxf1):\n",
    "                    maxf1 = sklearn.metrics.f1_score(y_test, y_predicted, average='macro')\n",
    "                    parameters = \"Criterion:\" + criterion + \" , depth: \" + str(d) + \", class_weight:\" + str(cl)\n",
    "                    Best_Y_predicted = y_predicted\n",
    "                #print(\"F1 Score:\", sklearn.metrics.f1_score(y_test, y_predicted, average='macro'))\n",
    "\n",
    "    print(\"Best result: \" + str(maxf1) + \" with parameter \" + parameters)\n",
    "\n",
    "    return Best_Y_predicted"
   ]
  },
  {
   "cell_type": "markdown",
   "id": "bcb3c732",
   "metadata": {},
   "source": [
    "Testing on hole Data Set"
   ]
  },
  {
   "cell_type": "code",
   "execution_count": 8,
   "id": "baa3adfa",
   "metadata": {},
   "outputs": [
    {
     "name": "stdout",
     "output_type": "stream",
     "text": [
      "accuracy: 0.7673446862188584\n",
      "F1: 0.7740744661185558\n",
      "accuracy: 0.8484113844213182\n",
      "F1: 0.7968889359217897\n",
      "Accuracy: 0.8484113844213182\n",
      "Precision: 0.480702274892619\n",
      "Recall: 0.3626976714253866\n",
      "F1 Score: 0.36189251218846263\n",
      "Cohen Kappa Score: 0.12275569974485112\n",
      "\n",
      "Classification Report:\n",
      "\n",
      "              precision    recall  f1-score   support\n",
      "\n",
      "           0     0.8546    0.9898    0.9172     42795\n",
      "           1     0.0000    0.0000    0.0000       944\n",
      "           2     0.5875    0.0983    0.1685      6997\n",
      "\n",
      "    accuracy                         0.8484     50736\n",
      "   macro avg     0.4807    0.3627    0.3619     50736\n",
      "weighted avg     0.8018    0.8484    0.7969     50736\n",
      "\n"
     ]
    },
    {
     "name": "stderr",
     "output_type": "stream",
     "text": [
      "c:\\Users\\noemi\\PyMOL\\envs\\myenv\\Lib\\site-packages\\sklearn\\metrics\\_classification.py:1565: UndefinedMetricWarning: Precision is ill-defined and being set to 0.0 in labels with no predicted samples. Use `zero_division` parameter to control this behavior.\n",
      "  _warn_prf(average, modifier, f\"{metric.capitalize()} is\", len(result))\n",
      "c:\\Users\\noemi\\PyMOL\\envs\\myenv\\Lib\\site-packages\\sklearn\\metrics\\_classification.py:1565: UndefinedMetricWarning: Precision is ill-defined and being set to 0.0 in labels with no predicted samples. Use `zero_division` parameter to control this behavior.\n",
      "  _warn_prf(average, modifier, f\"{metric.capitalize()} is\", len(result))\n",
      "c:\\Users\\noemi\\PyMOL\\envs\\myenv\\Lib\\site-packages\\sklearn\\metrics\\_classification.py:1565: UndefinedMetricWarning: Precision is ill-defined and being set to 0.0 in labels with no predicted samples. Use `zero_division` parameter to control this behavior.\n",
      "  _warn_prf(average, modifier, f\"{metric.capitalize()} is\", len(result))\n",
      "c:\\Users\\noemi\\PyMOL\\envs\\myenv\\Lib\\site-packages\\sklearn\\metrics\\_classification.py:1565: UndefinedMetricWarning: Precision is ill-defined and being set to 0.0 in labels with no predicted samples. Use `zero_division` parameter to control this behavior.\n",
      "  _warn_prf(average, modifier, f\"{metric.capitalize()} is\", len(result))\n"
     ]
    },
    {
     "data": {
      "text/plain": [
       "' ploting desicion tree\\nplt.figure(figsize=(40, 10))\\nsklearn.tree.plot_tree(dtree, feature_names=newList)\\nplt.show()\\n'"
      ]
     },
     "execution_count": 8,
     "metadata": {},
     "output_type": "execute_result"
    }
   ],
   "source": [
    "# testing first on the hole data set\n",
    "X_train, X_test, y_train, y_test = splitdataset(X,y)\n",
    "#DataSetSplit_Reduced = splitdataset(X_reducedRelevant,y)\n",
    "\n",
    "dtree = DecisionTreeClassifier(random_state=42)\n",
    "dtree = dtree.fit(X_train, y_train)\n",
    "\n",
    "y_predicted = dtree.predict(X_test)\n",
    "Accurat = accuracy_score(y_test, y_predicted)\n",
    "F1 = f1_score(y_test, y_predicted, average='weighted')\n",
    "print(f\"accuracy: {Accurat}\")\n",
    "print(f\"F1: {F1}\")\n",
    "\n",
    "X_train, X_test, y_train, y_test = splitdataset(X_postBSE,y)\n",
    "\n",
    "dtree = DecisionTreeClassifier(max_depth=5)\n",
    "dtree = dtree.fit(X_train, y_train)\n",
    "\n",
    "y_predicted = dtree.predict(X_test)\n",
    "Accurat = accuracy_score(y_test, y_predicted)\n",
    "F1 = f1_score(y_test, y_predicted, average='weighted')\n",
    "print(f\"accuracy: {Accurat}\")\n",
    "print(f\"F1: {F1}\")\n",
    "\n",
    "Evaluation(y_test, y_predicted)\n",
    "\"\"\" ploting desicion tree\n",
    "plt.figure(figsize=(40, 10))\n",
    "sklearn.tree.plot_tree(dtree, feature_names=newList)\n",
    "plt.show()\n",
    "\"\"\"\n"
   ]
  },
  {
   "cell_type": "markdown",
   "id": "d261c07c",
   "metadata": {},
   "source": [
    "with backword stepwise elimination"
   ]
  },
  {
   "cell_type": "code",
   "execution_count": 19,
   "id": "0e6b6d36",
   "metadata": {},
   "outputs": [
    {
     "name": "stdout",
     "output_type": "stream",
     "text": [
      "Best result: 0.41796734327242274 with parameter Criterion:gini , depth: 4, class_weight:balanced\n"
     ]
    }
   ],
   "source": [
    "\"\"\"\n",
    "X_train, X_test, y_train, y_test = splitdataset(X_postBSE,y)\n",
    "\n",
    "dtree = DecisionTreeClassifier(max_depth=5)\n",
    "dtree = dtree.fit(X_train, y_train)\n",
    "\n",
    "y_predicted = dtree.predict(X_test)\n",
    "Accurat = accuracy_score(y_test, y_predicted)\n",
    "F1 = f1_score(y_test, y_predicted, average='weighted')\n",
    "print(f\"accuracy: {Accurat}\")\n",
    "print(f\"F1: {F1}\")\n",
    "\n",
    "Evaluation(y_test, y_predicted)\n",
    "\"\"\"\n",
    "\"\"\" \n",
    "ploting desicion tree\n",
    "plt.figure(figsize=(40, 10))\n",
    "sklearn.tree.plot_tree(dtree, feature_names=newList)\n",
    "plt.show()\n",
    "\"\"\"\n",
    "\n",
    "# split reduced data set\n",
    "X_train, X_test, y_train, y_test = splitdataset(X_postBSE,y)\n",
    "\n",
    "_ = Variating_DecisionTreeClassifier(X_train, y_train, X_test, y_test)"
   ]
  },
  {
   "cell_type": "markdown",
   "id": "5e4c0e04",
   "metadata": {},
   "source": [
    "Using SMOTE "
   ]
  },
  {
   "cell_type": "code",
   "execution_count": 20,
   "id": "50c06f71",
   "metadata": {},
   "outputs": [
    {
     "name": "stdout",
     "output_type": "stream",
     "text": [
      "Best result: 0.39444583043283377 with parameter Criterion:gini , depth: 8, class_weight:balanced\n"
     ]
    }
   ],
   "source": [
    "from imblearn.over_sampling import SMOTE\n",
    "\n",
    "# split hole data set\n",
    "X_train, X_test, y_train, y_test = splitdataset(X,y)\n",
    "\n",
    "sm = SMOTE(random_state=42)\n",
    "X_train, y_train = sm.fit_resample(X_train, y_train)\n",
    "\n",
    "_ = Variating_DecisionTreeClassifier(X_train, y_train, X_test, y_test)"
   ]
  },
  {
   "cell_type": "markdown",
   "id": "bf6a45ae",
   "metadata": {},
   "source": [
    "Using random oversampling"
   ]
  },
  {
   "cell_type": "code",
   "execution_count": 15,
   "id": "99c08741",
   "metadata": {},
   "outputs": [
    {
     "name": "stdout",
     "output_type": "stream",
     "text": [
      "Before oversampling: Counter({0: 170908, 2: 28349, 1: 3687})\n",
      "Resampled dataset: Counter({0: 170908, 2: 170908, 1: 170908})\n",
      "Best result: 0.41867559558202094 with parameter Criterion:gini , depth: 4, class_weight:balanced\n"
     ]
    }
   ],
   "source": [
    "from imblearn.over_sampling import RandomOverSampler\n",
    "from collections import Counter\n",
    "\n",
    "# split hole data set\n",
    "X_train, X_test, y_train, y_test = splitdataset(X,y)\n",
    "\n",
    "# Check class distribution before oversampling\n",
    "print(\"Before oversampling:\", Counter(y_train))\n",
    "\n",
    "ros = RandomOverSampler(random_state=42)\n",
    "X_resampled, y_resampled = ros.fit_resample(X_train, y_train)\n",
    "\n",
    "print(\"Resampled dataset:\", Counter(y_resampled))\n",
    "\n",
    "Best_Y_predicted = Variating_DecisionTreeClassifier(X_train, y_train, X_test, y_test)\n"
   ]
  },
  {
   "cell_type": "markdown",
   "id": "8a785bf3",
   "metadata": {},
   "source": [
    "Using random undersampling"
   ]
  },
  {
   "cell_type": "code",
   "execution_count": null,
   "id": "e6db410e",
   "metadata": {},
   "outputs": [],
   "source": []
  },
  {
   "cell_type": "markdown",
   "id": "4126d264",
   "metadata": {},
   "source": [
    "Detailed results for the best F1 score found:"
   ]
  },
  {
   "cell_type": "code",
   "execution_count": 17,
   "id": "c47c8e28",
   "metadata": {},
   "outputs": [
    {
     "name": "stdout",
     "output_type": "stream",
     "text": [
      "Accuracy: 0.6555108798486282\n",
      "Precision: 0.4296388709118782\n",
      "Recall: 0.49986795635420034\n",
      "F1 Score: 0.41867559558202094\n",
      "Cohen Kappa Score: 0.23986520819991486\n",
      "\n",
      "Classification Report:\n",
      "\n",
      "              precision    recall  f1-score   support\n",
      "\n",
      "           0     0.9414    0.6712    0.7837     42795\n",
      "           1     0.0300    0.2087    0.0525       944\n",
      "           2     0.3175    0.6197    0.4199      6997\n",
      "\n",
      "    accuracy                         0.6555     50736\n",
      "   macro avg     0.4296    0.4999    0.4187     50736\n",
      "weighted avg     0.8384    0.6555    0.7199     50736\n",
      "\n"
     ]
    },
    {
     "data": {
      "image/png": "[encoded data removed]",
      "text/plain": [
       "<Figure size 800x600 with 2 Axes>"
      ]
     },
     "metadata": {},
     "output_type": "display_data"
    }
   ],
   "source": [
    "\"\"\" from Oliver\n",
    "# Prediction\n",
    "y_pred = rdf.predict(X_test)\n",
    "y_pred_proba = rdf.predict_proba(X_test)\n",
    "\"\"\"\n",
    "\n",
    "Evaluation(y_test, Best_Y_predicted)\n",
    "\n",
    "# Confusion matrix\n",
    "cm = confusion_matrix(y_test, Best_Y_predicted, labels=[0, 1, 2])\n",
    "plt.figure(figsize=(8, 6))\n",
    "sns.heatmap(cm, annot=True, fmt='d', cmap='Blues')\n",
    "plt.title('Confusion Matrix')\n",
    "plt.xlabel('Predicted')\n",
    "plt.ylabel('True')\n",
    "plt.show()"
   ]
  },
  {
   "cell_type": "code",
   "execution_count": null,
   "id": "a91baed2",
   "metadata": {},
   "outputs": [],
   "source": [
    "\"\"\"\n",
    "#training a decision tree classifier using the Gini index as the splitting criterion\n",
    "def train_using_gini(X_train, X_test, y_train):\n",
    "\n",
    "    # Creating the classifier object\n",
    "    clf_gini = DecisionTreeClassifier(criterion=\"gini\",\n",
    "                                      random_state=42, max_depth=3, min_samples_leaf=5)\n",
    "\n",
    "    # Performing training\n",
    "    clf_gini.fit(X_train, y_train)\n",
    "    return clf_gini\n",
    "\n",
    "\n",
    "def train_using_entropy(X_train, X_test, y_train):\n",
    "\n",
    "    # Decision tree with entropy\n",
    "    clf_entropy = DecisionTreeClassifier(\n",
    "        criterion=\"entropy\", random_state=42,\n",
    "        max_depth=3, min_samples_leaf=5)\n",
    "\n",
    "    # Performing training\n",
    "    clf_entropy.fit(X_train, y_train)\n",
    "    return clf_entropy\n",
    "\"\"\""
   ]
  },
  {
   "cell_type": "markdown",
   "id": "3e260f98",
   "metadata": {},
   "source": [
    "## Random Forest"
   ]
  },
  {
   "cell_type": "code",
   "execution_count": null,
   "id": "64cc59bd",
   "metadata": {
    "ExecuteTime": {
     "end_time": "2025-05-15T06:34:10.163612700Z",
     "start_time": "2025-05-13T19:03:45.905134Z"
    }
   },
   "outputs": [],
   "source": [
    "from sklearn.model_selection import train_test_split,RandomizedSearchCV\n",
    "from sklearn.metrics import (accuracy_score, precision_score, recall_score, f1_score,\n",
    "                             log_loss, cohen_kappa_score, classification_report, confusion_matrix)\n",
    "from sklearn.preprocessing import StandardScaler\n",
    "from sklearn.ensemble import RandomForestClassifier\n",
    "\n",
    "# Split the data into training and testing sets\n",
    "scaler = StandardScaler()\n",
    "X_scaled = scaler.fit_transform(X)\n",
    "\n",
    "# Select the features\n",
    "rdf_selector = SelectKBest(score_func=mutual_info_classif, k=10)\n",
    "rdf_selector.fit(X_scaled, y)\n",
    "X_rdf= rdf_selector.transform(X_scaled)\n",
    "selected_features = X.columns[rdf_selector.get_support()]\n",
    "\n",
    "print(\"Selected features:\", selected_features)\n",
    "\n",
    "# Create a dataframe with the selected features\n",
    "X_selected_rdf = pd.DataFrame(X_rdf, columns=selected_features, index=data.index)\n",
    "\n",
    "# RANDOM FOREST\n",
    "rdf = RandomForestClassifier(class_weight='balanced', random_state=42)\n",
    "\n",
    "# Split training/test\n",
    "X_train, X_test, y_train, y_test = train_test_split(X_selected_rdf, y, test_size=0.2, random_state=42, stratify=y)\n",
    "\n",
    "# Fit the model\n",
    "rdf.fit(X_train, y_train)\n",
    "\n",
    "# Prediction\n",
    "y_pred = rdf.predict(X_test)\n",
    "y_pred_proba = rdf.predict_proba(X_test)\n",
    "# Confusion matrix\n",
    "cm = confusion_matrix(y_test, y_pred, labels=[0, 1, 2])\n",
    "plt.figure(figsize=(8, 6))\n",
    "sns.heatmap(cm, annot=True, fmt='d', cmap='Blues')\n",
    "plt.title('Confusion Matrix')\n",
    "plt.xlabel('Predicted')\n",
    "plt.ylabel('True')\n",
    "plt.show()\n",
    "\n",
    "# Evaluation\n",
    "print(\"Random Forest Classifier\")\n",
    "print(\"Accuracy:\", accuracy_score(y_test, y_pred))\n",
    "print(\"Precision:\", precision_score(y_test, y_pred, average='macro'))\n",
    "print(\"Recall:\", recall_score(y_test, y_pred, average='macro'))\n",
    "print(\"F1 Score:\", f1_score(y_test, y_pred, average='macro'))\n",
    "print(\"Log Loss:\", log_loss(y_test, y_pred_proba, labels=[0, 1, 2]))\n",
    "print(\"Cohen Kappa Score:\", cohen_kappa_score(y_test, y_pred))\n",
    "\n"
   ]
  },
  {
   "cell_type": "markdown",
   "id": "6c8bae92",
   "metadata": {},
   "source": [
    "Random forest feature selection"
   ]
  },
  {
   "cell_type": "code",
   "execution_count": null,
   "id": "ccfcafb7",
   "metadata": {},
   "outputs": [],
   "source": [
    "# Train a Random Forest to get feature importances\n",
    "temp_rdf = RandomForestClassifier(class_weight='balanced', random_state=42)\n",
    "temp_rdf.fit(X, y)\n",
    "\n",
    "# Get feature importances\n",
    "importances = temp_rdf.feature_importances_\n",
    "feature_names = X.columns\n",
    "importance_df = pd.DataFrame({'Feature': feature_names, 'Importance': importances})\n",
    "importance_df = importance_df.sort_values(by='Importance', ascending=False)\n",
    "\n",
    "# Select top k important features\n",
    "k=6\n",
    "top_features = importance_df['Feature'].head(k).values\n",
    "print(\"Top Random Forest Features:\", top_features)\n",
    "\n",
    "# Use only the selected features\n",
    "X_selected_rf = pd.DataFrame(X, columns=X.columns)[top_features]\n",
    "\n",
    "# Split data\n",
    "X_train, X_test, y_train, y_test = train_test_split(X_selected_rf, y, test_size=0.2, random_state=42, stratify=y)\n",
    "\n",
    "# Train final model\n",
    "rdf = RandomForestClassifier(class_weight='balanced', random_state=42)\n",
    "rdf.fit(X_train, y_train)\n",
    "\n",
    "# Predict\n",
    "y_pred = rdf.predict(X_test)\n",
    "y_pred_proba = rdf.predict_proba(X_test)\n",
    "\n",
    "# Confusion matrix\n",
    "cm = confusion_matrix(y_test, y_pred, labels=[0, 1, 2])\n",
    "plt.figure(figsize=(8, 6))\n",
    "sns.heatmap(cm, annot=True, fmt='d', cmap='Blues')\n",
    "plt.title('Confusion Matrix')\n",
    "plt.xlabel('Predicted')\n",
    "plt.ylabel('True')\n",
    "plt.show()\n",
    "\n",
    "# Evaluation\n",
    "print(\"Random Forest Classifier\")\n",
    "print(\"Accuracy:\", accuracy_score(y_test, y_pred))\n",
    "print(\"Precision:\", precision_score(y_test, y_pred, average='macro'))\n",
    "print(\"Recall:\", recall_score(y_test, y_pred, average='macro'))\n",
    "print(\"F1 Score:\", f1_score(y_test, y_pred, average='macro'))\n",
    "print(\"Log Loss:\", log_loss(y_test, y_pred_proba, labels=[0, 1, 2]))\n",
    "print(\"Cohen Kappa Score:\", cohen_kappa_score(y_test, y_pred))"
   ]
  },
  {
   "cell_type": "markdown",
   "id": "e57225d6",
   "metadata": {},
   "source": [
    "HPT after FS RF"
   ]
  },
  {
   "cell_type": "code",
   "execution_count": null,
   "id": "5c81ed42",
   "metadata": {},
   "outputs": [],
   "source": [
    "from sklearn.model_selection import StratifiedKFold\n",
    "#==== Train-test split ====\n",
    "# Split training/test\n",
    "X_train, X_test, y_train, y_test = train_test_split(X_selected_rf, y, test_size=0.2, random_state=42, stratify=y)\n",
    "\n",
    "rf = RandomForestClassifier(n_estimators=50, class_weight='balanced', random_state=42)\n",
    "\n",
    "# ==== Parametri per RandomizedSearch ====\n",
    "param_dist = {\n",
    "    'n_estimators': [50, 100, 150, 200],\n",
    "    'max_depth': [5, 10, 15, 20, None],\n",
    "    'min_samples_split': [2, 5, 10],\n",
    "    'min_samples_leaf': [1, 2, 4],\n",
    "    'max_features': ['sqrt', 'log2', 0.5],\n",
    "    'bootstrap': [True, False],\n",
    "    'class_weight': ['balanced', {0:1, 1:10, 2:5}, {0:1, 1:15, 2:10}]\n",
    "}\n",
    "\n",
    "# ==== RandomizedSearch ====\n",
    "random_search = RandomizedSearchCV(\n",
    "    estimator=rf,\n",
    "    param_distributions=param_dist,\n",
    "    n_iter=30,\n",
    "    scoring='f1_macro',\n",
    "    cv=StratifiedKFold(n_splits=5, shuffle=True, random_state=42),\n",
    "    verbose=2,\n",
    "    n_jobs=-1,\n",
    "    random_state=42\n",
    ")\n",
    "\n",
    "# ==== Fit ====\n",
    "random_search.fit(X_train, y_train)\n",
    "\n",
    "\n",
    "# ==== Best Model ====\n",
    "best_model = random_search.best_estimator_\n",
    "y_pred = best_model.predict(X_test)\n",
    "y_proba = best_model.predict_proba(X_test)\n",
    "\n",
    "# ==== Confusion Matrix ====\n",
    "cm = confusion_matrix(y_test, y_pred, labels=[0, 1, 2])\n",
    "plt.figure(figsize=(8, 6))\n",
    "sns.heatmap(cm, annot=True, fmt='d', cmap='Blues')\n",
    "plt.title('Confusion Matrix')\n",
    "plt.xlabel('Predicted')\n",
    "plt.ylabel('True')\n",
    "plt.show()\n",
    "\n",
    "# ==== Metrics ====\n",
    "print(\"Best parameters from tuning:\", random_search.best_params_)\n",
    "print(\"Best CV score:\", random_search.best_score_)\n",
    "print(\"Accuracy:\", accuracy_score(y_test, y_pred))\n",
    "print(\"Precision (macro):\", precision_score(y_test, y_pred, average='macro'))\n",
    "print(\"Recall (macro):\", recall_score(y_test, y_pred, average='macro'))\n",
    "print(\"F1 Score (macro):\", f1_score(y_test, y_pred, average='macro'))\n",
    "\n",
    "print(\"\\nClassification Report:\\n\")\n",
    "print(classification_report(y_test, y_pred, digits=4))\n"
   ]
  },
  {
   "cell_type": "markdown",
   "id": "d088b69e",
   "metadata": {},
   "source": [
    "HPT for random forest I"
   ]
  },
  {
   "cell_type": "code",
   "execution_count": null,
   "id": "7907f324",
   "metadata": {},
   "outputs": [],
   "source": [
    "from sklearn.ensemble import RandomForestClassifier\n",
    "from sklearn.model_selection import GridSearchCV\n",
    "from sklearn.feature_selection import f_classif\n",
    "\n",
    "\"\"\"\n",
    "scaler = StandardScaler()\n",
    "X_scaled = scaler.fit_transform(X)\n",
    "\n",
    "df_selector = SelectKBest(score_func=f_classif,k=9)\n",
    "rdf_selector.fit(X_scaled, y)\n",
    "X_rdf= rdf_selector.transform(X_scaled)\n",
    "selected_features = X.columns[rdf_selector.get_support()]\n",
    "\n",
    "print(\"Selected features:\", selected_features)\n",
    "\n",
    "# Create a dataframe with the selected features\n",
    "X_selected_rdf = pd.DataFrame(X_rdf, columns=selected_features, index=data.index)\n",
    "\"\"\"\n",
    "\n",
    "# Split training/test\n",
    "X_train, X_test, y_train, y_test = train_test_split(X, y, test_size=0.2, random_state=42, stratify=y)\n",
    "\n",
    "rf = RandomForestClassifier(n_estimators=50, class_weight='balanced', random_state=42)\n",
    "\n",
    "param_dist = {\n",
    "    'max_depth': [5, 10, 15, 20, None],\n",
    "    'min_samples_split': [2, 5, 10],\n",
    "    'min_samples_leaf': [1, 2, 4, 8],\n",
    "    'max_features': ['sqrt', 'log2', 0.5, 0.8, None],\n",
    "    'bootstrap': [True, False]\n",
    "}\n",
    "\n",
    "# Random search\n",
    "\n",
    "random_search = RandomizedSearchCV(\n",
    "    estimator=rf,\n",
    "    param_distributions=param_dist,\n",
    "    n_iter=30,\n",
    "    cv=5,\n",
    "    scoring='f1_macro',  # puoi cambiare qui\n",
    "    verbose=2,\n",
    "    n_jobs=-1,\n",
    "    random_state=42\n",
    ")\n",
    "\n",
    "# Fit\n",
    "random_search.fit(X_train, y_train)\n",
    "\n",
    "print(\"Best parameters:\", random_search.best_params_)\n",
    "print(\"Best F1 score:\", random_search.best_score_)\n",
    "\n",
    "\"\"\"\n",
    "# Miglior modello\n",
    "best_rf = random_search.best_estimator_\n",
    "\n",
    "\n",
    "# Valutazione sul test set\n",
    "y_pred = best_rf.predict(X_test)\n",
    "y_proba = best_rf.predict_proba(X_test)\n",
    "\n",
    "\n",
    "# Confusion matrix\n",
    "cm = confusion_matrix(y_test, y_pred, labels=[0, 1, 2])\n",
    "plt.figure(figsize=(8, 6))\n",
    "sns.heatmap(cm, annot=True, fmt='d', cmap='Blues')\n",
    "plt.title('Confusion Matrix')\n",
    "plt.xlabel('Predicted')\n",
    "plt.ylabel('True')\n",
    "plt.show()\n",
    "\n",
    "# Metrics\n",
    "print(\"Best parameters from tuning:\", random_search.best_params_)\n",
    "print(\"Accuracy:\", best_rf.score(X_test, y_test))\n",
    "print(\"Precision (macro):\", precision_score(y_test, y_pred, average='macro'))\n",
    "print(\"Recall (macro):\", recall_score(y_test, y_pred, average='macro'))\n",
    "print(\"F1 Score (macro):\", f1_score(y_test, y_pred, average='macro'))\n",
    "print(\"\\nClassification Report:\\n\")\n",
    "print(classification_report(y_test, y_pred, digits=4))\n",
    "\"\"\""
   ]
  },
  {
   "cell_type": "code",
   "execution_count": null,
   "id": "53db73ee",
   "metadata": {},
   "outputs": [],
   "source": [
    "\"\"\"\n",
    "#  ==== Scaling ====\n",
    "scaler = StandardScaler()\n",
    "X_scaled = scaler.fit_transform(X)\n",
    "\n",
    "# ==== Feature selection ====\n",
    "selector = SelectKBest(score_func=f_classif, k=9)\n",
    "X_selected = selector.fit_transform(X_scaled, y)\n",
    "selected_features = X.columns[selector.get_support()]\n",
    "X_selected_df = pd.DataFrame(X_selected, columns=selected_features, index=data.index)\n",
    "\"\"\"\n",
    "# ==== Train-test split ====\n",
    "X_train, X_test, y_train, y_test = train_test_split(X, y, test_size=0.2, stratify=y, random_state=42)\n",
    "\n",
    "# ==== Pipeline ====\n",
    "pipeline = Pipeline([\n",
    "    ('smote', SMOTE(random_state=42)),\n",
    "    ('rf', RandomForestClassifier(random_state=42))\n",
    "])\n",
    "\n",
    "# ==== Parametri per RandomizedSearch ====\n",
    "param_dist = {\n",
    "    'rf__n_estimators': [50, 100, 150, 200],\n",
    "    'rf__max_depth': [5, 10, 15, 20, None],\n",
    "    'rf__min_samples_split': [2, 5, 10],\n",
    "    'rf__min_samples_leaf': [1, 2, 4],\n",
    "    'rf__max_features': ['sqrt', 'log2', 0.5],\n",
    "    'rf__bootstrap': [True, False],\n",
    "    'rf__class_weight': ['balanced', {0:1, 1:10, 2:5}, {0:1, 1:15, 2:10}]\n",
    "}\n",
    "\n",
    "# ==== RandomizedSearch ====\n",
    "random_search = RandomizedSearchCV(\n",
    "    estimator=pipeline,\n",
    "    param_distributions=param_dist,\n",
    "    n_iter=30,\n",
    "    scoring='f1_macro',\n",
    "    cv=5,\n",
    "    verbose=2,\n",
    "    n_jobs=-1,\n",
    "    random_state=42\n",
    ")\n",
    "\n",
    "# ==== Fit ====\n",
    "random_search.fit(X_train, y_train)\n",
    "\n",
    "print(\"Best parameters:\", random_search.best_params_)\n",
    "print(\"Best F1 score:\", random_search.best_score_)\n",
    "\n",
    "\"\"\"\n",
    "# ==== Best Model ====\n",
    "best_model = random_search.best_estimator_\n",
    "y_pred = best_model.predict(X_test)\n",
    "y_proba = best_model.predict_proba(X_test)\n",
    "\n",
    "# ==== Confusion Matrix ====\n",
    "cm = confusion_matrix(y_test, y_pred, labels=[0, 1, 2])\n",
    "plt.figure(figsize=(8, 6))\n",
    "sns.heatmap(cm, annot=True, fmt='d', cmap='Blues')\n",
    "plt.title('Confusion Matrix')\n",
    "plt.xlabel('Predicted')\n",
    "plt.ylabel('True')\n",
    "plt.show()\n",
    "\n",
    "# ==== Metrics ====\n",
    "print(\"Best parameters from tuning:\", random_search.best_params_)\n",
    "print(\"Best CV score:\", random_search.best_score_)\n",
    "print(\"Accuracy:\", accuracy_score(y_test, y_pred))\n",
    "print(\"Precision (macro):\", precision_score(y_test, y_pred, average='macro'))\n",
    "print(\"Recall (macro):\", recall_score(y_test, y_pred, average='macro'))\n",
    "print(\"F1 Score (macro):\", f1_score(y_test, y_pred, average='macro'))\n",
    "\n",
    "print(\"\\nClassification Report:\\n\")\n",
    "print(classification_report(y_test, y_pred, digits=4))\n",
    "\"\"\""
   ]
  },
  {
   "cell_type": "markdown",
   "id": "428c12d3",
   "metadata": {},
   "source": [
    "SMOTE + RF. Let's see"
   ]
  },
  {
   "cell_type": "code",
   "execution_count": null,
   "id": "15f6b101",
   "metadata": {},
   "outputs": [],
   "source": [
    "from imblearn.over_sampling import SMOTE\n",
    "from imblearn.pipeline import Pipeline\n",
    "\n",
    "# Pipeline con SMOTE + Random Forest\n",
    "pipeline = Pipeline([\n",
    "    ('smote', SMOTE(random_state=42)),\n",
    "    ('rf', RandomForestClassifier(class_weight='balanced', random_state=42))\n",
    "])\n",
    "\n",
    "# Fit della pipeline sul training set\n",
    "pipeline.fit(X_train, y_train)\n",
    "\n",
    "# Predizione sul test set\n",
    "y_pred = pipeline.predict(X_test)\n",
    "y_pred_proba = pipeline.predict_proba(X_test)\n",
    "\n",
    "# Confusion matrix\n",
    "cm = confusion_matrix(y_test, y_pred, labels=[0, 1, 2])\n",
    "plt.figure(figsize=(8, 6))\n",
    "sns.heatmap(cm, annot=True, fmt='d', cmap='Blues')\n",
    "plt.title('Confusion Matrix (SMOTE + Random Forest)')\n",
    "plt.xlabel('Predicted')\n",
    "plt.ylabel('True')\n",
    "plt.show()\n",
    "\n",
    "# Evaluation\n",
    "print(\"Random Forest Classifier with SMOTE\")\n",
    "print(\"Accuracy:\", accuracy_score(y_test, y_pred))\n",
    "print(\"Precision (macro):\", precision_score(y_test, y_pred, average='macro'))\n",
    "print(\"Recall (macro):\", recall_score(y_test, y_pred, average='macro'))\n",
    "print(\"F1 Score (macro):\", f1_score(y_test, y_pred, average='macro'))\n",
    "print(\"Log Loss:\", log_loss(y_test, y_pred_proba, labels=[0, 1, 2]))\n",
    "print(\"Cohen Kappa Score:\", cohen_kappa_score(y_test, y_pred))\n",
    "\n",
    "# Classification report per classe\n",
    "print(\"\\nClassification Report:\\n\")\n",
    "print(classification_report(y_test, y_pred, digits=4))"
   ]
  },
  {
   "cell_type": "markdown",
   "id": "9bf63a83",
   "metadata": {},
   "source": [
    "Let's try an undersampling"
   ]
  },
  {
   "cell_type": "code",
   "execution_count": null,
   "id": "1903459f",
   "metadata": {},
   "outputs": [],
   "source": [
    "from imblearn.under_sampling import RandomUnderSampler\n",
    "\n",
    "\n",
    "# Pipeline con Undersampling + Random Forest\n",
    "pipeline = Pipeline([\n",
    "    ('undersample', RandomUnderSampler(random_state=42)),\n",
    "    ('rf', RandomForestClassifier(class_weight='balanced', random_state=42))\n",
    "])\n",
    "\n",
    "# Fit della pipeline sul training set\n",
    "pipeline.fit(X_train, y_train)\n",
    "\n",
    "# Predizione sul test set\n",
    "y_pred = pipeline.predict(X_test)\n",
    "y_pred_proba = pipeline.predict_proba(X_test)\n",
    "\n",
    "# Confusion matrix\n",
    "cm = confusion_matrix(y_test, y_pred, labels=[0, 1, 2])\n",
    "plt.figure(figsize=(8, 6))\n",
    "sns.heatmap(cm, annot=True, fmt='d', cmap='Blues')\n",
    "plt.title('Confusion Matrix (Undersampling + Random Forest)')\n",
    "plt.xlabel('Predicted')\n",
    "plt.ylabel('True')\n",
    "plt.show()\n",
    "\n",
    "# Evaluation\n",
    "print(\"Random Forest Classifier with Random Undersampling\")\n",
    "print(\"Accuracy:\", accuracy_score(y_test, y_pred))\n",
    "print(\"Precision (macro):\", precision_score(y_test, y_pred, average='macro'))\n",
    "print(\"Recall (macro):\", recall_score(y_test, y_pred, average='macro'))\n",
    "print(\"F1 Score (macro):\", f1_score(y_test, y_pred, average='macro'))\n",
    "print(\"Log Loss:\", log_loss(y_test, y_pred_proba, labels=[0, 1, 2]))\n",
    "print(\"Cohen Kappa Score:\", cohen_kappa_score(y_test, y_pred))\n",
    "\n",
    "# Classification report per classe\n",
    "print(\"\\nClassification Report:\\n\")\n",
    "print(classification_report(y_test, y_pred, digits=4))"
   ]
  },
  {
   "cell_type": "markdown",
   "id": "63556d03",
   "metadata": {},
   "source": [
    "BalancedBaggingClassifier. I'm trying to find a better classifier for very unbalanced dataset. This one uses trained undersample. Let's see"
   ]
  },
  {
   "cell_type": "code",
   "execution_count": null,
   "id": "3bf49eaf",
   "metadata": {},
   "outputs": [],
   "source": [
    "from imblearn.ensemble import BalancedBaggingClassifier\n",
    "\n",
    "# Balanced Bagging with Random Forest as base estimator\n",
    "bbc = BalancedBaggingClassifier(\n",
    "    estimator=RandomForestClassifier(random_state=42),\n",
    "    sampling_strategy='auto',  # Bilancia automaticamente le classi\n",
    "    replacement=False,\n",
    "    n_estimators=10,\n",
    "    random_state=42,\n",
    "    n_jobs=-1\n",
    ")\n",
    "\n",
    "# Fit del modello\n",
    "bbc.fit(X_train, y_train)\n",
    "\n",
    "# Predizione\n",
    "y_pred = bbc.predict(X_test)\n",
    "y_pred_proba = bbc.predict_proba(X_test)\n",
    "\n",
    "# Confusion matrix\n",
    "cm = confusion_matrix(y_test, y_pred, labels=[0, 1, 2])\n",
    "plt.figure(figsize=(8, 6))\n",
    "sns.heatmap(cm, annot=True, fmt='d', cmap='Blues')\n",
    "plt.title('Confusion Matrix (BalancedBaggingClassifier)')\n",
    "plt.xlabel('Predicted')\n",
    "plt.ylabel('True')\n",
    "plt.show()\n",
    "\n",
    "# Valutazione\n",
    "print(\"BalancedBaggingClassifier with RandomForest\")\n",
    "print(\"Accuracy:\", accuracy_score(y_test, y_pred))\n",
    "print(\"Precision (macro):\", precision_score(y_test, y_pred, average='macro'))\n",
    "print(\"Recall (macro):\", recall_score(y_test, y_pred, average='macro'))\n",
    "print(\"F1 Score (macro):\", f1_score(y_test, y_pred, average='macro'))\n",
    "print(\"Log Loss:\", log_loss(y_test, y_pred_proba, labels=[0, 1, 2]))\n",
    "print(\"Cohen Kappa Score:\", cohen_kappa_score(y_test, y_pred))\n",
    "\n",
    "print(\"\\nClassification Report:\\n\")\n",
    "print(classification_report(y_test, y_pred, digits=4))"
   ]
  },
  {
   "cell_type": "markdown",
   "id": "ad70e39e",
   "metadata": {},
   "source": [
    "XGBoost. Also good for very unbalanced dataset"
   ]
  },
  {
   "cell_type": "code",
   "execution_count": null,
   "id": "20b089ab",
   "metadata": {},
   "outputs": [],
   "source": [
    "from xgboost import XGBClassifier\n",
    "from sklearn.utils.class_weight import compute_class_weight\n",
    "\n",
    "# Calcolo pesi delle classi per XGBoost\n",
    "class_weights = compute_class_weight(class_weight='balanced', classes=np.unique(y_train), y=y_train)\n",
    "class_weights_dict = {i: w for i, w in enumerate(class_weights)}\n",
    "print(\"Class Weights:\", class_weights_dict)\n",
    "\n",
    "# Inizializza XGBoost\n",
    "xgb = XGBClassifier(\n",
    "    objective='multi:softprob',\n",
    "    num_class=3,\n",
    "    eval_metric='mlogloss',\n",
    "    use_label_encoder=False,\n",
    "    random_state=42,\n",
    "    n_jobs=-1,\n",
    "    scale_pos_weight=1  # Ignorato in multiclass, usiamo sample_weight\n",
    ")\n",
    "\n",
    "# Fit con sample_weight\n",
    "sample_weights = y_train.map(class_weights_dict)\n",
    "xgb.fit(X_train, y_train, sample_weight=sample_weights)\n",
    "\n",
    "# Predict\n",
    "y_pred = xgb.predict(X_test)\n",
    "y_pred_proba = xgb.predict_proba(X_test)\n",
    "\n",
    "# Confusion matrix\n",
    "cm = confusion_matrix(y_test, y_pred, labels=[0, 1, 2])\n",
    "plt.figure(figsize=(8, 6))\n",
    "sns.heatmap(cm, annot=True, fmt='d', cmap='Oranges')\n",
    "plt.title('Confusion Matrix (XGBoost)')\n",
    "plt.xlabel('Predicted')\n",
    "plt.ylabel('True')\n",
    "plt.show()\n",
    "\n",
    "# Evaluation\n",
    "print(\"XGBoost Classifier\")\n",
    "print(\"Accuracy:\", accuracy_score(y_test, y_pred))\n",
    "print(\"Precision (macro):\", precision_score(y_test, y_pred, average='macro'))\n",
    "print(\"Recall (macro):\", recall_score(y_test, y_pred, average='macro'))\n",
    "print(\"F1 Score (macro):\", f1_score(y_test, y_pred, average='macro'))\n",
    "print(\"Log Loss:\", log_loss(y_test, y_pred_proba, labels=[0, 1, 2]))\n",
    "print(\"Cohen Kappa Score:\", cohen_kappa_score(y_test, y_pred))\n",
    "\n",
    "print(\"\\nClassification Report:\\n\")\n",
    "print(classification_report(y_test, y_pred, digits=4))"
   ]
  },
  {
   "cell_type": "markdown",
   "id": "30bc89ce",
   "metadata": {},
   "source": [
    "## Lightgbm"
   ]
  },
  {
   "cell_type": "code",
   "execution_count": null,
   "id": "5bb3a5f2e6107a64",
   "metadata": {
    "ExecuteTime": {
     "end_time": "2025-05-15T06:34:10.165625200Z",
     "start_time": "2025-05-09T08:29:52.374075Z"
    }
   },
   "outputs": [],
   "source": [
    "print(y.value_counts(normalize=True)) ##High imbalance --> Oversampling \n",
    "#Plot\n",
    "plt.figure(figsize=(7, 4))\n",
    "plt.pie(data['Diabetes_012'].value_counts(), labels=data['Diabetes_012'].value_counts().index,autopct='%1.1f%%' , startangle=140)\n",
    "plt.title('Distribution of the labels')\n",
    "plt.legend(title='Diabetes_012')\n",
    "plt.axis('equal')  # Equal aspect ratio ensures that pie is drawn as a circle.\n",
    "plt.savefig('pie_chart.png', dpi=300, bbox_inches='tight')\n",
    "plt.show()"
   ]
  },
  {
   "cell_type": "code",
   "execution_count": null,
   "id": "dfe784f22d9bcac4",
   "metadata": {
    "ExecuteTime": {
     "end_time": "2025-05-15T06:34:10.166132600Z",
     "start_time": "2025-05-13T09:02:09.996504Z"
    }
   },
   "outputs": [],
   "source": [
    "import lightgbm as lgb\n",
    "import matplotlib.pyplot as plt\n",
    "import seaborn as sns\n",
    "\n",
    "from sklearn.model_selection import StratifiedKFold\n",
    "from sklearn.preprocessing import StandardScaler\n",
    "from sklearn.feature_selection import RFE\n",
    "from sklearn.ensemble import RandomForestClassifier\n",
    "from sklearn.metrics import (\n",
    "    accuracy_score, precision_score, recall_score, f1_score,\n",
    "    log_loss, cohen_kappa_score, classification_report,\n",
    "    confusion_matrix, ConfusionMatrixDisplay\n",
    ")\n",
    "from sklearn.utils.class_weight import compute_class_weight\n",
    "from imblearn.over_sampling import SMOTE\n",
    "from collections import Counter\n",
    "# ==== Preprocessing ====\n",
    "scaler = StandardScaler()\n",
    "X_scaled = scaler.fit_transform(X)\n",
    "X_scaled_df = pd.DataFrame(X_scaled, columns=X.columns)\n",
    "\n",
    "# ==== Selezione delle migliori features ====\n",
    "selected_cols = multinomial(X_scaled_df)\n",
    "if 'const' in selected_cols:\n",
    "    selected_cols.remove('const')\n",
    "X_model = X_scaled_df[selected_cols]\n",
    "\n",
    "# ==== Train/test split ====\n",
    "X_train, X_test, y_train, y_test = train_test_split(\n",
    "    X_model, y, test_size=0.2, stratify=y, random_state=42\n",
    ")\n",
    "\n",
    "# ==== Oversampling SMOTE ====\n",
    "smote = SMOTE(random_state=42)\n",
    "X_train_bal, y_train_bal = smote.fit_resample(X_train, y_train)\n",
    "\n",
    "# ==== Calcolo class_weight ====\n",
    "class_weights = compute_class_weight(class_weight='balanced', classes=np.unique(y_train_bal), y=y_train_bal)\n",
    "class_weight_dict = dict(zip(np.unique(y_train_bal), class_weights))\n",
    "print(\"Class weights:\", class_weight_dict)\n",
    "\n",
    "# ==== Modello LightGBM ====\n",
    "model = lgb.LGBMClassifier(\n",
    "    objective='multiclass',\n",
    "    num_class=3,\n",
    "    learning_rate=0.05,\n",
    "    n_estimators=300,\n",
    "    class_weight=class_weight_dict,\n",
    "    random_state=42\n",
    ")\n",
    "model.fit(\n",
    "    X_train_bal, y_train_bal,\n",
    "    eval_set=[(X_test, y_test)],\n",
    "    eval_metric='multi_logloss',\n",
    "    callbacks=[lgb.early_stopping(50)]\n",
    ")\n",
    "\n",
    "# ==== Predizioni ====\n",
    "y_pred = model.predict(X_test)\n",
    "y_pred_probs = model.predict_proba(X_test)\n",
    "\n",
    "# ==== Valutazione ====\n",
    "print(\"\\n--- Classification Report ---\")\n",
    "print(classification_report(y_test, y_pred, digits=4))\n",
    "\n",
    "print(f\"Accuracy: {accuracy_score(y_test, y_pred):.4f}\")\n",
    "print(f\"Precision (macro): {precision_score(y_test, y_pred, average='weighted'):.4f}\")\n",
    "print(f\"Recall (macro): {recall_score(y_test, y_pred, average='weighted'):.4f}\")\n",
    "print(f\"F1-score (macro): {f1_score(y_test, y_pred, average='weighted'):.4f}\")\n",
    "print(f\"Log Loss: {log_loss(y_test, y_pred_probs):.4f}\")\n",
    "print(f\"Cohen's Kappa: {cohen_kappa_score(y_test, y_pred):.4f}\")\n",
    "\n",
    "# ==== Confusion Matrix ====\n",
    "cm = confusion_matrix(y_test, y_pred)\n",
    "plt.figure(figsize=(8, 6))\n",
    "sns.heatmap(cm, annot=True, fmt='d', cmap='Reds', xticklabels=[0,1,2], yticklabels=[0,1,2])\n",
    "plt.xlabel('Predicted')\n",
    "plt.ylabel('True')\n",
    "plt.title('Confusion Matrix')\n",
    "plt.show()\n",
    "\n",
    "# ==== Feature Importance ====\n",
    "importance = model.feature_importances_\n",
    "feature_names = X_model.columns\n",
    "\n",
    "importance_df = pd.DataFrame({\n",
    "    'feature': feature_names,\n",
    "    'importance': importance\n",
    "}).sort_values(by='importance', ascending=False)\n",
    "\n",
    "plt.figure(figsize=(10, 8))\n",
    "sns.barplot(x='importance', y='feature', data=importance_df)\n",
    "plt.title('Feature Importance')\n",
    "plt.show()"
   ]
  },
  {
   "cell_type": "markdown",
   "id": "8d478bc2b905af2a",
   "metadata": {},
   "source": [
    "## Multiclass Classification Neural Network"
   ]
  },
  {
   "cell_type": "code",
   "execution_count": 75,
   "id": "2db4feba99f6d862",
   "metadata": {
    "ExecuteTime": {
     "end_time": "2025-05-18T16:11:06.445141Z",
     "start_time": "2025-05-18T15:54:26.844629Z"
    }
   },
   "outputs": [],
   "source": [
    "import pandas as pd\n",
    "import numpy as np\n",
    "import torch\n",
    "import torch.nn as nn\n",
    "from torch.utils.data import Dataset, DataLoader\n",
    "from sklearn.model_selection import train_test_split\n",
    "from sklearn.preprocessing import StandardScaler\n",
    "from sklearn.metrics import (\n",
    "    accuracy_score, precision_score, recall_score,\n",
    "    f1_score, cohen_kappa_score, log_loss,\n",
    "    confusion_matrix, classification_report\n",
    ")\n",
    "from imblearn.over_sampling import SMOTE\n",
    "import seaborn as sns\n",
    "import matplotlib.pyplot as plt\n",
    "\n",
    "# ==== 2. SPLIT TRAIN/TEST ====\n",
    "X_train, X_test, y_train, y_test = train_test_split(\n",
    "    X, y, test_size=0.2, stratify=y, random_state=42\n",
    ")\n",
    "\n",
    "# ==== 3. SCALING ====\n",
    "scaler = StandardScaler()\n",
    "X_train_scaled = scaler.fit_transform(X_train)\n",
    "X_test_scaled = scaler.transform(X_test)\n",
    "\n",
    "# ==== 4. SMOTE RESAMPLING ====\n",
    "sm = SMOTE(random_state=42)\n",
    "X_resampled, y_resampled = sm.fit_resample(X_train_scaled, y_train)\n",
    "\n",
    "# ==== 5. CUSTOM DATASET ====\n",
    "class DiabetesDataset(Dataset):\n",
    "    def __init__(self, X, y):\n",
    "        self.X = torch.tensor(X, dtype=torch.float32)\n",
    "        self.y = torch.tensor(y.values if isinstance(y, pd.Series) else y, dtype=torch.long)\n",
    "\n",
    "    def __len__(self):\n",
    "        return len(self.X)\n",
    "\n",
    "    def __getitem__(self, idx):\n",
    "        return self.X[idx], self.y[idx]\n",
    "\n",
    "train_dataset = DiabetesDataset(X_resampled, y_resampled)\n",
    "test_dataset = DiabetesDataset(X_test_scaled, y_test)\n",
    "\n",
    "train_loader = DataLoader(train_dataset, batch_size=64, shuffle=True)\n",
    "test_loader = DataLoader(test_dataset, batch_size=64, shuffle=False)\n",
    "\n",
    "# ==== 6. MODEL DEFINITION ====\n",
    "class DiabetesModel(nn.Module):\n",
    "    def __init__(self, input_dim):\n",
    "        super().__init__()\n",
    "        self.model = nn.Sequential(\n",
    "            nn.Linear(input_dim, 128),\n",
    "            nn.ReLU(),\n",
    "            nn.Dropout(0.4),\n",
    "            nn.Linear(128, 64),\n",
    "            nn.ReLU(),\n",
    "            nn.Dropout(0.4),\n",
    "            nn.Linear(64, 3)\n",
    "        )\n",
    "\n",
    "    def forward(self, x):\n",
    "        return self.model(x)\n",
    "\n",
    "# ==== 7. FOCAL LOSS ====\n",
    "class FocalLoss(nn.Module):\n",
    "    def __init__(self, gamma=2.0, weight=None):\n",
    "        super(FocalLoss, self).__init__()\n",
    "        self.gamma = gamma\n",
    "        self.ce = nn.CrossEntropyLoss(weight=weight)\n",
    "\n",
    "    def forward(self, input, target):\n",
    "        logpt = -self.ce(input, target)\n",
    "        pt = torch.exp(logpt)\n",
    "        return -((1 - pt) ** self.gamma) * logpt\n",
    "\n",
    "# ==== 8. MODEL SETUP ====\n",
    "model = DiabetesModel(X.shape[1])\n",
    "\n",
    "# Compute class weights based on inverse frequency (from resampled training set)\n",
    "class_counts = pd.Series(y_resampled).value_counts().sort_index()\n",
    "weights = 1. / torch.tensor(class_counts.values, dtype=torch.float)\n",
    "weights = weights / weights.sum()\n",
    "\n",
    "criterion = FocalLoss(gamma=1.5, weight=weights)\n",
    "optimizer = torch.optim.Adam(model.parameters(), lr=0.001)\n",
    "epochs = 30\n",
    "\n",
    "# ==== 9. TRAINING LOOP ====\n",
    "for epoch in range(epochs):\n",
    "    model.train()\n",
    "    running_loss = 0\n",
    "    for inputs, targets in train_loader:\n",
    "        optimizer.zero_grad()\n",
    "        outputs = model(inputs)\n",
    "        loss = criterion(outputs, targets)\n",
    "        loss.backward()\n",
    "        optimizer.step()\n",
    "        running_loss += loss.item()\n",
    "    print(f\"Epoch {epoch+1}/{epochs}, Loss: {running_loss:.4f}\")\n",
    "\n",
    "# ==== 10. EVALUATION ====\n",
    "model.eval()\n",
    "y_true, y_pred, y_probs = [], [], []\n",
    "with torch.no_grad():\n",
    "    for inputs, targets in test_loader:\n",
    "        outputs = model(inputs)\n",
    "        probs = torch.softmax(outputs, dim=1)\n",
    "        preds = torch.argmax(probs, dim=1)\n",
    "        y_true.extend(targets.tolist())\n",
    "        y_pred.extend(preds.tolist())\n",
    "        y_probs.extend(probs.tolist())\n",
    "\n",
    "# ==== 11. METRICS ====\n",
    "print(\"\\n--- Classification Report ---\")\n",
    "print(classification_report(y_true, y_pred))\n",
    "\n",
    "print(f\"Accuracy:          {accuracy_score(y_true, y_pred):.4f}\")\n",
    "print(f\"Precision (macro): {precision_score(y_true, y_pred, average='macro'):.4f}\")\n",
    "print(f\"Precision (weighted): {precision_score(y_true, y_pred, average='weighted'):.4f}\")\n",
    "print(f\"Recall (macro):    {recall_score(y_true, y_pred, average='macro'):.4f}\")\n",
    "print(f\"Recall (weighted): {recall_score(y_true, y_pred, average='weighted'):.4f}\")\n",
    "print(f\"F1-score (macro):  {f1_score(y_true, y_pred, average='macro'):.4f}\")\n",
    "print(f\"F1-score (weighted): {f1_score(y_true, y_pred, average='weighted'):.4f}\")\n",
    "print(f\"Log Loss: {log_loss(y_true, y_probs):.4f}\")\n",
    "print(f\"Cohen's Kappa: {cohen_kappa_score(y_true, y_pred):.4f}\")\n",
    "\n",
    "# ==== 12. CONFUSION MATRIX ====\n",
    "cm = confusion_matrix(y_true, y_pred)\n",
    "plt.figure(figsize=(8, 6))\n",
    "sns.heatmap(cm, annot=True, fmt='d', cmap='Blues', xticklabels=[0, 1, 2], yticklabels=[0, 1, 2])\n",
    "plt.xlabel(\"Predicted\")\n",
    "plt.ylabel(\"True\")\n",
    "plt.title(\"Confusion Matrix\")\n",
    "plt.show()\n",
    "\n",
    "\n"
   ]
  },
  {
   "cell_type": "code",
   "execution_count": null,
   "id": "f6606558ee5f1f66",
   "metadata": {},
   "outputs": [],
   "source": []
  }
 ],
 "metadata": {
  "kernelspec": {
   "display_name": "Python 3",
   "language": "python",
   "name": "python3"
  },
  "language_info": {
   "codemirror_mode": {
    "name": "ipython",
    "version": 3
   },
   "file_extension": ".py",
   "mimetype": "text/x-python",
   "name": "python",
   "nbconvert_exporter": "python",
   "pygments_lexer": "ipython3",
   "version": "3.12.0"
  }
 },
 "nbformat": 4,
 "nbformat_minor": 5
}
